{
 "cells": [
  {
   "cell_type": "code",
   "execution_count": 17,
   "outputs": [],
   "source": [
    "import pandas as pd\n",
    "import numpy as np"
   ],
   "metadata": {
    "collapsed": false,
    "pycharm": {
     "name": "#%%\n"
    }
   }
  },
  {
   "cell_type": "markdown",
   "source": [],
   "metadata": {
    "collapsed": false,
    "pycharm": {
     "name": "#%% md\n"
    }
   }
  },
  {
   "cell_type": "code",
   "execution_count": 18,
   "outputs": [
    {
     "data": {
      "text/plain": "   facilityuid            facility   code              ward  \\\n0  aCOEeeYEcsO  Rabondo Dispensary  14019   West sakwa Ward   \n1  aCOEeeYEcsO  Rabondo Dispensary  14019   West sakwa Ward   \n2  aWpElDmioIw     Kuja Dispensary  13724  North sakwa Ward   \n3  aWpElDmioIw     Kuja Dispensary  13724  North sakwa Ward   \n4  aWpElDmioIw     Kuja Dispensary  13724  North sakwa Ward   \n\n          sub_county         county    indicator  \\\n0  Awendo Sub County  Migori County  JiuqbydCIcy   \n1  Awendo Sub County  Migori County  OePJt8CcZ0d   \n2  Awendo Sub County  Migori County  JiuqbydCIcy   \n3  Awendo Sub County  Migori County  pkShOkgNQt2   \n4  Awendo Sub County  Migori County  YXJf27jfkvS   \n\n                    Indicator Name  period  dhis2_value  datim_value  \n0  MOH 731 Tested_20-24(F) HV01-07  2019Q4           33         87.0  \n1       MOH 731 Tested_1-9 HV01-01  2020Q1           14         13.0  \n2  MOH 731 Tested_20-24(F) HV01-07  2019Q4           15         53.0  \n3  MOH 731 Tested_20-24(M) HV01-06  2020Q2            9         10.0  \n4  MOH 731 Tested_15-19(F) HV01-05  2019Q4            7         39.0  ",
      "text/html": "<div>\n<style scoped>\n    .dataframe tbody tr th:only-of-type {\n        vertical-align: middle;\n    }\n\n    .dataframe tbody tr th {\n        vertical-align: top;\n    }\n\n    .dataframe thead th {\n        text-align: right;\n    }\n</style>\n<table border=\"1\" class=\"dataframe\">\n  <thead>\n    <tr style=\"text-align: right;\">\n      <th></th>\n      <th>facilityuid</th>\n      <th>facility</th>\n      <th>code</th>\n      <th>ward</th>\n      <th>sub_county</th>\n      <th>county</th>\n      <th>indicator</th>\n      <th>Indicator Name</th>\n      <th>period</th>\n      <th>dhis2_value</th>\n      <th>datim_value</th>\n    </tr>\n  </thead>\n  <tbody>\n    <tr>\n      <th>0</th>\n      <td>aCOEeeYEcsO</td>\n      <td>Rabondo Dispensary</td>\n      <td>14019</td>\n      <td>West sakwa Ward</td>\n      <td>Awendo Sub County</td>\n      <td>Migori County</td>\n      <td>JiuqbydCIcy</td>\n      <td>MOH 731 Tested_20-24(F) HV01-07</td>\n      <td>2019Q4</td>\n      <td>33</td>\n      <td>87.0</td>\n    </tr>\n    <tr>\n      <th>1</th>\n      <td>aCOEeeYEcsO</td>\n      <td>Rabondo Dispensary</td>\n      <td>14019</td>\n      <td>West sakwa Ward</td>\n      <td>Awendo Sub County</td>\n      <td>Migori County</td>\n      <td>OePJt8CcZ0d</td>\n      <td>MOH 731 Tested_1-9 HV01-01</td>\n      <td>2020Q1</td>\n      <td>14</td>\n      <td>13.0</td>\n    </tr>\n    <tr>\n      <th>2</th>\n      <td>aWpElDmioIw</td>\n      <td>Kuja Dispensary</td>\n      <td>13724</td>\n      <td>North sakwa Ward</td>\n      <td>Awendo Sub County</td>\n      <td>Migori County</td>\n      <td>JiuqbydCIcy</td>\n      <td>MOH 731 Tested_20-24(F) HV01-07</td>\n      <td>2019Q4</td>\n      <td>15</td>\n      <td>53.0</td>\n    </tr>\n    <tr>\n      <th>3</th>\n      <td>aWpElDmioIw</td>\n      <td>Kuja Dispensary</td>\n      <td>13724</td>\n      <td>North sakwa Ward</td>\n      <td>Awendo Sub County</td>\n      <td>Migori County</td>\n      <td>pkShOkgNQt2</td>\n      <td>MOH 731 Tested_20-24(M) HV01-06</td>\n      <td>2020Q2</td>\n      <td>9</td>\n      <td>10.0</td>\n    </tr>\n    <tr>\n      <th>4</th>\n      <td>aWpElDmioIw</td>\n      <td>Kuja Dispensary</td>\n      <td>13724</td>\n      <td>North sakwa Ward</td>\n      <td>Awendo Sub County</td>\n      <td>Migori County</td>\n      <td>YXJf27jfkvS</td>\n      <td>MOH 731 Tested_15-19(F) HV01-05</td>\n      <td>2019Q4</td>\n      <td>7</td>\n      <td>39.0</td>\n    </tr>\n  </tbody>\n</table>\n</div>"
     },
     "execution_count": 18,
     "metadata": {},
     "output_type": "execute_result"
    }
   ],
   "source": [
    "hts = pd.read_csv(\"data/HTS_TST.csv\")\n",
    "pmtct = pd.read_csv(\"data/PMTCT.csv\")\n",
    "hts.head(5)"
   ],
   "metadata": {
    "collapsed": false,
    "pycharm": {
     "name": "#%%\n"
    }
   }
  },
  {
   "cell_type": "code",
   "execution_count": 19,
   "outputs": [
    {
     "name": "stdout",
     "output_type": "stream",
     "text": [
      "<class 'pandas.core.frame.DataFrame'>\n",
      "RangeIndex: 3304 entries, 0 to 3303\n",
      "Data columns (total 11 columns):\n",
      " #   Column          Non-Null Count  Dtype  \n",
      "---  ------          --------------  -----  \n",
      " 0   facilityuid     3304 non-null   object \n",
      " 1   facility        3304 non-null   object \n",
      " 2   code            3304 non-null   int64  \n",
      " 3   ward            3304 non-null   object \n",
      " 4   sub_county      3304 non-null   object \n",
      " 5   county          3304 non-null   object \n",
      " 6   indicator       3304 non-null   object \n",
      " 7   Indicator Name  3304 non-null   object \n",
      " 8   period          3304 non-null   object \n",
      " 9   dhis2_value     3304 non-null   int64  \n",
      " 10  datim_value     3273 non-null   float64\n",
      "dtypes: float64(1), int64(2), object(8)\n",
      "memory usage: 284.1+ KB\n"
     ]
    }
   ],
   "source": [
    "hts.info()"
   ],
   "metadata": {
    "collapsed": false,
    "pycharm": {
     "name": "#%%\n"
    }
   }
  },
  {
   "cell_type": "code",
   "execution_count": 20,
   "outputs": [
    {
     "data": {
      "text/plain": "               code  dhis2_value  datim_value\ncount   3304.000000  3304.000000  3273.000000\nmean   14721.679479    51.367433    56.867400\nstd     1814.712146    99.956839    98.801622\nmin    13467.000000     1.000000     1.000000\n25%    13741.000000     9.000000    10.000000\n50%    13989.000000    25.000000    28.000000\n75%    14158.000000    57.000000    68.000000\nmax    24341.000000  2667.000000  2439.000000",
      "text/html": "<div>\n<style scoped>\n    .dataframe tbody tr th:only-of-type {\n        vertical-align: middle;\n    }\n\n    .dataframe tbody tr th {\n        vertical-align: top;\n    }\n\n    .dataframe thead th {\n        text-align: right;\n    }\n</style>\n<table border=\"1\" class=\"dataframe\">\n  <thead>\n    <tr style=\"text-align: right;\">\n      <th></th>\n      <th>code</th>\n      <th>dhis2_value</th>\n      <th>datim_value</th>\n    </tr>\n  </thead>\n  <tbody>\n    <tr>\n      <th>count</th>\n      <td>3304.000000</td>\n      <td>3304.000000</td>\n      <td>3273.000000</td>\n    </tr>\n    <tr>\n      <th>mean</th>\n      <td>14721.679479</td>\n      <td>51.367433</td>\n      <td>56.867400</td>\n    </tr>\n    <tr>\n      <th>std</th>\n      <td>1814.712146</td>\n      <td>99.956839</td>\n      <td>98.801622</td>\n    </tr>\n    <tr>\n      <th>min</th>\n      <td>13467.000000</td>\n      <td>1.000000</td>\n      <td>1.000000</td>\n    </tr>\n    <tr>\n      <th>25%</th>\n      <td>13741.000000</td>\n      <td>9.000000</td>\n      <td>10.000000</td>\n    </tr>\n    <tr>\n      <th>50%</th>\n      <td>13989.000000</td>\n      <td>25.000000</td>\n      <td>28.000000</td>\n    </tr>\n    <tr>\n      <th>75%</th>\n      <td>14158.000000</td>\n      <td>57.000000</td>\n      <td>68.000000</td>\n    </tr>\n    <tr>\n      <th>max</th>\n      <td>24341.000000</td>\n      <td>2667.000000</td>\n      <td>2439.000000</td>\n    </tr>\n  </tbody>\n</table>\n</div>"
     },
     "execution_count": 20,
     "metadata": {},
     "output_type": "execute_result"
    }
   ],
   "source": [
    "hts.describe()"
   ],
   "metadata": {
    "collapsed": false,
    "pycharm": {
     "name": "#%%\n"
    }
   }
  },
  {
   "cell_type": "code",
   "execution_count": 21,
   "outputs": [
    {
     "data": {
      "text/plain": "facilityuid        0\nfacility           0\ncode               0\nward               0\nsub_county         0\ncounty             0\nindicator          0\nIndicator Name     0\nperiod             0\ndhis2_value        0\ndatim_value       31\ndtype: int64"
     },
     "execution_count": 21,
     "metadata": {},
     "output_type": "execute_result"
    }
   ],
   "source": [
    "hts.isnull().sum()"
   ],
   "metadata": {
    "collapsed": false,
    "pycharm": {
     "name": "#%%\n"
    }
   }
  },
  {
   "cell_type": "code",
   "execution_count": 22,
   "outputs": [
    {
     "data": {
      "text/plain": "     facilityuid                       facility     code               ward  \\\n0    SZnkrFoimi2         Kugitimo Health Centre  13723.0  Nyabasi east Ward   \n1    xt2lltkTLza  Ntimaru Sub-District Hospital  13858.0  Ntimaru west Ward   \n2    NoZjHcIDHGW      Kegonga District Hospital  13663.0  Nyabasi east Ward   \n3    SZnkrFoimi2         Kugitimo Health Centre  13723.0  Nyabasi east Ward   \n4    xt2lltkTLza  Ntimaru Sub-District Hospital  13858.0  Ntimaru west Ward   \n..           ...                            ...      ...                ...   \n660  H8zbf1TS3qy                    Got kachola  19928.0   Got kachola Ward   \n661  mQbyKWUNKMs            Oasis Doctors Plaza  20051.0         Oruba Ward   \n662  mQbyKWUNKMs            Oasis Doctors Plaza  20051.0         Oruba Ward   \n663  mQbyKWUNKMs            Oasis Doctors Plaza  20051.0         Oruba Ward   \n664  H8zbf1TS3qy                    Got kachola  19928.0   Got kachola Ward   \n\n                sub_county         county    indicator  \\\n0    Kuria East Sub County  Migori County  ETX9cUWF43c   \n1    Kuria East Sub County  Migori County  ETX9cUWF43c   \n2    Kuria East Sub County  Migori County  qSgLzXh46n9   \n3    Kuria East Sub County  Migori County  ETX9cUWF43c   \n4    Kuria East Sub County  Migori County  ETX9cUWF43c   \n..                     ...            ...          ...   \n660     Nyatike Sub County  Migori County  qSgLzXh46n9   \n661   Suna West Sub County  Migori County  ETX9cUWF43c   \n662   Suna West Sub County  Migori County  ETX9cUWF43c   \n663   Suna West Sub County  Migori County  ETX9cUWF43c   \n664     Nyatike Sub County  Migori County  ETX9cUWF43c   \n\n                                        indicator_name  period  dhis2_value  \\\n0           MOH 731  Initial test at ANC       HV02-04  2020Q1         64.0   \n1           MOH 731  Initial test at ANC       HV02-04  2019Q4        119.0   \n2    MOH 731  Known Positive at 1st  ANC       HV02-03  2020Q2          1.0   \n3           MOH 731  Initial test at ANC       HV02-04  2020Q2         46.0   \n4           MOH 731  Initial test at ANC       HV02-04  2020Q1        194.0   \n..                                                 ...     ...          ...   \n660  MOH 731  Known Positive at 1st  ANC       HV02-03  2019Q4          8.0   \n661         MOH 731  Initial test at ANC       HV02-04  2019Q4         27.0   \n662         MOH 731  Initial test at ANC       HV02-04  2020Q1         23.0   \n663         MOH 731  Initial test at ANC       HV02-04  2020Q2         34.0   \n664         MOH 731  Initial test at ANC       HV02-04  2020Q2         36.0   \n\n     datim_value  \n0           64.0  \n1          124.0  \n2            1.0  \n3           45.0  \n4          191.0  \n..           ...  \n660          8.0  \n661          6.0  \n662         19.0  \n663         32.0  \n664         35.0  \n\n[661 rows x 11 columns]",
      "text/html": "<div>\n<style scoped>\n    .dataframe tbody tr th:only-of-type {\n        vertical-align: middle;\n    }\n\n    .dataframe tbody tr th {\n        vertical-align: top;\n    }\n\n    .dataframe thead th {\n        text-align: right;\n    }\n</style>\n<table border=\"1\" class=\"dataframe\">\n  <thead>\n    <tr style=\"text-align: right;\">\n      <th></th>\n      <th>facilityuid</th>\n      <th>facility</th>\n      <th>code</th>\n      <th>ward</th>\n      <th>sub_county</th>\n      <th>county</th>\n      <th>indicator</th>\n      <th>indicator_name</th>\n      <th>period</th>\n      <th>dhis2_value</th>\n      <th>datim_value</th>\n    </tr>\n  </thead>\n  <tbody>\n    <tr>\n      <th>0</th>\n      <td>SZnkrFoimi2</td>\n      <td>Kugitimo Health Centre</td>\n      <td>13723.0</td>\n      <td>Nyabasi east Ward</td>\n      <td>Kuria East Sub County</td>\n      <td>Migori County</td>\n      <td>ETX9cUWF43c</td>\n      <td>MOH 731  Initial test at ANC       HV02-04</td>\n      <td>2020Q1</td>\n      <td>64.0</td>\n      <td>64.0</td>\n    </tr>\n    <tr>\n      <th>1</th>\n      <td>xt2lltkTLza</td>\n      <td>Ntimaru Sub-District Hospital</td>\n      <td>13858.0</td>\n      <td>Ntimaru west Ward</td>\n      <td>Kuria East Sub County</td>\n      <td>Migori County</td>\n      <td>ETX9cUWF43c</td>\n      <td>MOH 731  Initial test at ANC       HV02-04</td>\n      <td>2019Q4</td>\n      <td>119.0</td>\n      <td>124.0</td>\n    </tr>\n    <tr>\n      <th>2</th>\n      <td>NoZjHcIDHGW</td>\n      <td>Kegonga District Hospital</td>\n      <td>13663.0</td>\n      <td>Nyabasi east Ward</td>\n      <td>Kuria East Sub County</td>\n      <td>Migori County</td>\n      <td>qSgLzXh46n9</td>\n      <td>MOH 731  Known Positive at 1st  ANC       HV02-03</td>\n      <td>2020Q2</td>\n      <td>1.0</td>\n      <td>1.0</td>\n    </tr>\n    <tr>\n      <th>3</th>\n      <td>SZnkrFoimi2</td>\n      <td>Kugitimo Health Centre</td>\n      <td>13723.0</td>\n      <td>Nyabasi east Ward</td>\n      <td>Kuria East Sub County</td>\n      <td>Migori County</td>\n      <td>ETX9cUWF43c</td>\n      <td>MOH 731  Initial test at ANC       HV02-04</td>\n      <td>2020Q2</td>\n      <td>46.0</td>\n      <td>45.0</td>\n    </tr>\n    <tr>\n      <th>4</th>\n      <td>xt2lltkTLza</td>\n      <td>Ntimaru Sub-District Hospital</td>\n      <td>13858.0</td>\n      <td>Ntimaru west Ward</td>\n      <td>Kuria East Sub County</td>\n      <td>Migori County</td>\n      <td>ETX9cUWF43c</td>\n      <td>MOH 731  Initial test at ANC       HV02-04</td>\n      <td>2020Q1</td>\n      <td>194.0</td>\n      <td>191.0</td>\n    </tr>\n    <tr>\n      <th>...</th>\n      <td>...</td>\n      <td>...</td>\n      <td>...</td>\n      <td>...</td>\n      <td>...</td>\n      <td>...</td>\n      <td>...</td>\n      <td>...</td>\n      <td>...</td>\n      <td>...</td>\n      <td>...</td>\n    </tr>\n    <tr>\n      <th>660</th>\n      <td>H8zbf1TS3qy</td>\n      <td>Got kachola</td>\n      <td>19928.0</td>\n      <td>Got kachola Ward</td>\n      <td>Nyatike Sub County</td>\n      <td>Migori County</td>\n      <td>qSgLzXh46n9</td>\n      <td>MOH 731  Known Positive at 1st  ANC       HV02-03</td>\n      <td>2019Q4</td>\n      <td>8.0</td>\n      <td>8.0</td>\n    </tr>\n    <tr>\n      <th>661</th>\n      <td>mQbyKWUNKMs</td>\n      <td>Oasis Doctors Plaza</td>\n      <td>20051.0</td>\n      <td>Oruba Ward</td>\n      <td>Suna West Sub County</td>\n      <td>Migori County</td>\n      <td>ETX9cUWF43c</td>\n      <td>MOH 731  Initial test at ANC       HV02-04</td>\n      <td>2019Q4</td>\n      <td>27.0</td>\n      <td>6.0</td>\n    </tr>\n    <tr>\n      <th>662</th>\n      <td>mQbyKWUNKMs</td>\n      <td>Oasis Doctors Plaza</td>\n      <td>20051.0</td>\n      <td>Oruba Ward</td>\n      <td>Suna West Sub County</td>\n      <td>Migori County</td>\n      <td>ETX9cUWF43c</td>\n      <td>MOH 731  Initial test at ANC       HV02-04</td>\n      <td>2020Q1</td>\n      <td>23.0</td>\n      <td>19.0</td>\n    </tr>\n    <tr>\n      <th>663</th>\n      <td>mQbyKWUNKMs</td>\n      <td>Oasis Doctors Plaza</td>\n      <td>20051.0</td>\n      <td>Oruba Ward</td>\n      <td>Suna West Sub County</td>\n      <td>Migori County</td>\n      <td>ETX9cUWF43c</td>\n      <td>MOH 731  Initial test at ANC       HV02-04</td>\n      <td>2020Q2</td>\n      <td>34.0</td>\n      <td>32.0</td>\n    </tr>\n    <tr>\n      <th>664</th>\n      <td>H8zbf1TS3qy</td>\n      <td>Got kachola</td>\n      <td>19928.0</td>\n      <td>Got kachola Ward</td>\n      <td>Nyatike Sub County</td>\n      <td>Migori County</td>\n      <td>ETX9cUWF43c</td>\n      <td>MOH 731  Initial test at ANC       HV02-04</td>\n      <td>2020Q2</td>\n      <td>36.0</td>\n      <td>35.0</td>\n    </tr>\n  </tbody>\n</table>\n<p>661 rows × 11 columns</p>\n</div>"
     },
     "execution_count": 22,
     "metadata": {},
     "output_type": "execute_result"
    }
   ],
   "source": [
    "# hts['datim_value'].fillna(0, inplace= True)\n",
    "hts = pmtct.dropna(how=\"any\")\n",
    "hts"
   ],
   "metadata": {
    "collapsed": false,
    "pycharm": {
     "name": "#%%\n"
    }
   }
  },
  {
   "cell_type": "code",
   "execution_count": 23,
   "outputs": [
    {
     "data": {
      "text/plain": "facilityuid       0\nfacility          0\ncode              0\nward              0\nsub_county        0\ncounty            0\nindicator         0\nindicator_name    0\nperiod            0\ndhis2_value       0\ndatim_value       0\ndtype: int64"
     },
     "execution_count": 23,
     "metadata": {},
     "output_type": "execute_result"
    }
   ],
   "source": [
    "hts.isnull().sum()"
   ],
   "metadata": {
    "collapsed": false,
    "pycharm": {
     "name": "#%%\n"
    }
   }
  },
  {
   "cell_type": "code",
   "execution_count": 24,
   "outputs": [
    {
     "name": "stdout",
     "output_type": "stream",
     "text": [
      "<class 'pandas.core.frame.DataFrame'>\n",
      "Int64Index: 661 entries, 0 to 664\n",
      "Data columns (total 11 columns):\n",
      " #   Column          Non-Null Count  Dtype  \n",
      "---  ------          --------------  -----  \n",
      " 0   facilityuid     661 non-null    object \n",
      " 1   facility        661 non-null    object \n",
      " 2   code            661 non-null    float64\n",
      " 3   ward            661 non-null    object \n",
      " 4   sub_county      661 non-null    object \n",
      " 5   county          661 non-null    object \n",
      " 6   indicator       661 non-null    object \n",
      " 7   indicator_name  661 non-null    object \n",
      " 8   period          661 non-null    object \n",
      " 9   dhis2_value     661 non-null    float64\n",
      " 10  datim_value     661 non-null    float64\n",
      "dtypes: float64(3), object(8)\n",
      "memory usage: 62.0+ KB\n"
     ]
    }
   ],
   "source": [
    "hts.info()"
   ],
   "metadata": {
    "collapsed": false,
    "pycharm": {
     "name": "#%%\n"
    }
   }
  },
  {
   "cell_type": "code",
   "execution_count": 25,
   "outputs": [
    {
     "data": {
      "text/plain": "   facilityuid                       facility     code               ward  \\\n0  SZnkrFoimi2         Kugitimo Health Centre  13723.0  Nyabasi east Ward   \n1  xt2lltkTLza  Ntimaru Sub-District Hospital  13858.0  Ntimaru west Ward   \n2  NoZjHcIDHGW      Kegonga District Hospital  13663.0  Nyabasi east Ward   \n3  SZnkrFoimi2         Kugitimo Health Centre  13723.0  Nyabasi east Ward   \n4  xt2lltkTLza  Ntimaru Sub-District Hospital  13858.0  Ntimaru west Ward   \n\n              sub_county         county    indicator  \\\n0  Kuria East Sub County  Migori County  ETX9cUWF43c   \n1  Kuria East Sub County  Migori County  ETX9cUWF43c   \n2  Kuria East Sub County  Migori County  qSgLzXh46n9   \n3  Kuria East Sub County  Migori County  ETX9cUWF43c   \n4  Kuria East Sub County  Migori County  ETX9cUWF43c   \n\n                                      indicator_name  period  dhis2_value  \\\n0         MOH 731  Initial test at ANC       HV02-04  2020Q1         64.0   \n1         MOH 731  Initial test at ANC       HV02-04  2019Q4        119.0   \n2  MOH 731  Known Positive at 1st  ANC       HV02-03  2020Q2          1.0   \n3         MOH 731  Initial test at ANC       HV02-04  2020Q2         46.0   \n4         MOH 731  Initial test at ANC       HV02-04  2020Q1        194.0   \n\n   datim_value  \n0         64.0  \n1        124.0  \n2          1.0  \n3         45.0  \n4        191.0  ",
      "text/html": "<div>\n<style scoped>\n    .dataframe tbody tr th:only-of-type {\n        vertical-align: middle;\n    }\n\n    .dataframe tbody tr th {\n        vertical-align: top;\n    }\n\n    .dataframe thead th {\n        text-align: right;\n    }\n</style>\n<table border=\"1\" class=\"dataframe\">\n  <thead>\n    <tr style=\"text-align: right;\">\n      <th></th>\n      <th>facilityuid</th>\n      <th>facility</th>\n      <th>code</th>\n      <th>ward</th>\n      <th>sub_county</th>\n      <th>county</th>\n      <th>indicator</th>\n      <th>indicator_name</th>\n      <th>period</th>\n      <th>dhis2_value</th>\n      <th>datim_value</th>\n    </tr>\n  </thead>\n  <tbody>\n    <tr>\n      <th>0</th>\n      <td>SZnkrFoimi2</td>\n      <td>Kugitimo Health Centre</td>\n      <td>13723.0</td>\n      <td>Nyabasi east Ward</td>\n      <td>Kuria East Sub County</td>\n      <td>Migori County</td>\n      <td>ETX9cUWF43c</td>\n      <td>MOH 731  Initial test at ANC       HV02-04</td>\n      <td>2020Q1</td>\n      <td>64.0</td>\n      <td>64.0</td>\n    </tr>\n    <tr>\n      <th>1</th>\n      <td>xt2lltkTLza</td>\n      <td>Ntimaru Sub-District Hospital</td>\n      <td>13858.0</td>\n      <td>Ntimaru west Ward</td>\n      <td>Kuria East Sub County</td>\n      <td>Migori County</td>\n      <td>ETX9cUWF43c</td>\n      <td>MOH 731  Initial test at ANC       HV02-04</td>\n      <td>2019Q4</td>\n      <td>119.0</td>\n      <td>124.0</td>\n    </tr>\n    <tr>\n      <th>2</th>\n      <td>NoZjHcIDHGW</td>\n      <td>Kegonga District Hospital</td>\n      <td>13663.0</td>\n      <td>Nyabasi east Ward</td>\n      <td>Kuria East Sub County</td>\n      <td>Migori County</td>\n      <td>qSgLzXh46n9</td>\n      <td>MOH 731  Known Positive at 1st  ANC       HV02-03</td>\n      <td>2020Q2</td>\n      <td>1.0</td>\n      <td>1.0</td>\n    </tr>\n    <tr>\n      <th>3</th>\n      <td>SZnkrFoimi2</td>\n      <td>Kugitimo Health Centre</td>\n      <td>13723.0</td>\n      <td>Nyabasi east Ward</td>\n      <td>Kuria East Sub County</td>\n      <td>Migori County</td>\n      <td>ETX9cUWF43c</td>\n      <td>MOH 731  Initial test at ANC       HV02-04</td>\n      <td>2020Q2</td>\n      <td>46.0</td>\n      <td>45.0</td>\n    </tr>\n    <tr>\n      <th>4</th>\n      <td>xt2lltkTLza</td>\n      <td>Ntimaru Sub-District Hospital</td>\n      <td>13858.0</td>\n      <td>Ntimaru west Ward</td>\n      <td>Kuria East Sub County</td>\n      <td>Migori County</td>\n      <td>ETX9cUWF43c</td>\n      <td>MOH 731  Initial test at ANC       HV02-04</td>\n      <td>2020Q1</td>\n      <td>194.0</td>\n      <td>191.0</td>\n    </tr>\n  </tbody>\n</table>\n</div>"
     },
     "execution_count": 25,
     "metadata": {},
     "output_type": "execute_result"
    }
   ],
   "source": [
    "pmtct.head()"
   ],
   "metadata": {
    "collapsed": false,
    "pycharm": {
     "name": "#%%\n"
    }
   }
  },
  {
   "cell_type": "code",
   "execution_count": 26,
   "outputs": [
    {
     "data": {
      "text/plain": "               code  dhis2_value  datim_value\ncount    669.000000   669.000000   661.000000\nmean   14502.946188    40.956652    40.602118\nstd     1452.078747    54.483417    53.305414\nmin    13467.000000     1.000000     1.000000\n25%    13741.000000     7.000000     7.000000\n50%    13988.000000    24.000000    24.000000\n75%    14136.000000    51.000000    50.000000\nmax    20568.000000   434.000000   423.000000",
      "text/html": "<div>\n<style scoped>\n    .dataframe tbody tr th:only-of-type {\n        vertical-align: middle;\n    }\n\n    .dataframe tbody tr th {\n        vertical-align: top;\n    }\n\n    .dataframe thead th {\n        text-align: right;\n    }\n</style>\n<table border=\"1\" class=\"dataframe\">\n  <thead>\n    <tr style=\"text-align: right;\">\n      <th></th>\n      <th>code</th>\n      <th>dhis2_value</th>\n      <th>datim_value</th>\n    </tr>\n  </thead>\n  <tbody>\n    <tr>\n      <th>count</th>\n      <td>669.000000</td>\n      <td>669.000000</td>\n      <td>661.000000</td>\n    </tr>\n    <tr>\n      <th>mean</th>\n      <td>14502.946188</td>\n      <td>40.956652</td>\n      <td>40.602118</td>\n    </tr>\n    <tr>\n      <th>std</th>\n      <td>1452.078747</td>\n      <td>54.483417</td>\n      <td>53.305414</td>\n    </tr>\n    <tr>\n      <th>min</th>\n      <td>13467.000000</td>\n      <td>1.000000</td>\n      <td>1.000000</td>\n    </tr>\n    <tr>\n      <th>25%</th>\n      <td>13741.000000</td>\n      <td>7.000000</td>\n      <td>7.000000</td>\n    </tr>\n    <tr>\n      <th>50%</th>\n      <td>13988.000000</td>\n      <td>24.000000</td>\n      <td>24.000000</td>\n    </tr>\n    <tr>\n      <th>75%</th>\n      <td>14136.000000</td>\n      <td>51.000000</td>\n      <td>50.000000</td>\n    </tr>\n    <tr>\n      <th>max</th>\n      <td>20568.000000</td>\n      <td>434.000000</td>\n      <td>423.000000</td>\n    </tr>\n  </tbody>\n</table>\n</div>"
     },
     "execution_count": 26,
     "metadata": {},
     "output_type": "execute_result"
    }
   ],
   "source": [
    "pmtct.describe()"
   ],
   "metadata": {
    "collapsed": false,
    "pycharm": {
     "name": "#%%\n"
    }
   }
  },
  {
   "cell_type": "code",
   "execution_count": 27,
   "outputs": [
    {
     "name": "stdout",
     "output_type": "stream",
     "text": [
      "<class 'pandas.core.frame.DataFrame'>\n",
      "RangeIndex: 875 entries, 0 to 874\n",
      "Data columns (total 11 columns):\n",
      " #   Column          Non-Null Count  Dtype  \n",
      "---  ------          --------------  -----  \n",
      " 0   facilityuid     669 non-null    object \n",
      " 1   facility        669 non-null    object \n",
      " 2   code            669 non-null    float64\n",
      " 3   ward            669 non-null    object \n",
      " 4   sub_county      669 non-null    object \n",
      " 5   county          669 non-null    object \n",
      " 6   indicator       669 non-null    object \n",
      " 7   indicator_name  669 non-null    object \n",
      " 8   period          669 non-null    object \n",
      " 9   dhis2_value     669 non-null    float64\n",
      " 10  datim_value     661 non-null    float64\n",
      "dtypes: float64(3), object(8)\n",
      "memory usage: 75.3+ KB\n"
     ]
    }
   ],
   "source": [
    "pmtct.info()"
   ],
   "metadata": {
    "collapsed": false,
    "pycharm": {
     "name": "#%%\n"
    }
   }
  },
  {
   "cell_type": "code",
   "execution_count": 28,
   "outputs": [
    {
     "name": "stdout",
     "output_type": "stream",
     "text": [
      "<class 'pandas.core.frame.DataFrame'>\n",
      "RangeIndex: 875 entries, 0 to 874\n",
      "Data columns (total 11 columns):\n",
      " #   Column          Non-Null Count  Dtype  \n",
      "---  ------          --------------  -----  \n",
      " 0   facilityuid     669 non-null    object \n",
      " 1   facility        669 non-null    object \n",
      " 2   code            669 non-null    float64\n",
      " 3   ward            669 non-null    object \n",
      " 4   sub_county      669 non-null    object \n",
      " 5   county          669 non-null    object \n",
      " 6   indicator       669 non-null    object \n",
      " 7   indicator_name  669 non-null    object \n",
      " 8   period          669 non-null    object \n",
      " 9   dhis2_value     669 non-null    float64\n",
      " 10  datim_value     661 non-null    float64\n",
      "dtypes: float64(3), object(8)\n",
      "memory usage: 75.3+ KB\n"
     ]
    }
   ],
   "source": [
    "pmtct.info()"
   ],
   "metadata": {
    "collapsed": false,
    "pycharm": {
     "name": "#%%\n"
    }
   }
  },
  {
   "cell_type": "code",
   "execution_count": 29,
   "outputs": [
    {
     "data": {
      "text/plain": "               code  dhis2_value  datim_value\ncount    669.000000   669.000000   661.000000\nmean   14502.946188    40.956652    40.602118\nstd     1452.078747    54.483417    53.305414\nmin    13467.000000     1.000000     1.000000\n25%    13741.000000     7.000000     7.000000\n50%    13988.000000    24.000000    24.000000\n75%    14136.000000    51.000000    50.000000\nmax    20568.000000   434.000000   423.000000",
      "text/html": "<div>\n<style scoped>\n    .dataframe tbody tr th:only-of-type {\n        vertical-align: middle;\n    }\n\n    .dataframe tbody tr th {\n        vertical-align: top;\n    }\n\n    .dataframe thead th {\n        text-align: right;\n    }\n</style>\n<table border=\"1\" class=\"dataframe\">\n  <thead>\n    <tr style=\"text-align: right;\">\n      <th></th>\n      <th>code</th>\n      <th>dhis2_value</th>\n      <th>datim_value</th>\n    </tr>\n  </thead>\n  <tbody>\n    <tr>\n      <th>count</th>\n      <td>669.000000</td>\n      <td>669.000000</td>\n      <td>661.000000</td>\n    </tr>\n    <tr>\n      <th>mean</th>\n      <td>14502.946188</td>\n      <td>40.956652</td>\n      <td>40.602118</td>\n    </tr>\n    <tr>\n      <th>std</th>\n      <td>1452.078747</td>\n      <td>54.483417</td>\n      <td>53.305414</td>\n    </tr>\n    <tr>\n      <th>min</th>\n      <td>13467.000000</td>\n      <td>1.000000</td>\n      <td>1.000000</td>\n    </tr>\n    <tr>\n      <th>25%</th>\n      <td>13741.000000</td>\n      <td>7.000000</td>\n      <td>7.000000</td>\n    </tr>\n    <tr>\n      <th>50%</th>\n      <td>13988.000000</td>\n      <td>24.000000</td>\n      <td>24.000000</td>\n    </tr>\n    <tr>\n      <th>75%</th>\n      <td>14136.000000</td>\n      <td>51.000000</td>\n      <td>50.000000</td>\n    </tr>\n    <tr>\n      <th>max</th>\n      <td>20568.000000</td>\n      <td>434.000000</td>\n      <td>423.000000</td>\n    </tr>\n  </tbody>\n</table>\n</div>"
     },
     "execution_count": 29,
     "metadata": {},
     "output_type": "execute_result"
    }
   ],
   "source": [
    "pmtct.describe()"
   ],
   "metadata": {
    "collapsed": false,
    "pycharm": {
     "name": "#%%\n"
    }
   }
  },
  {
   "cell_type": "code",
   "execution_count": 30,
   "outputs": [
    {
     "data": {
      "text/plain": "     facilityuid                       facility     code               ward  \\\n0    SZnkrFoimi2         Kugitimo Health Centre  13723.0  Nyabasi east Ward   \n1    xt2lltkTLza  Ntimaru Sub-District Hospital  13858.0  Ntimaru west Ward   \n2    NoZjHcIDHGW      Kegonga District Hospital  13663.0  Nyabasi east Ward   \n3    SZnkrFoimi2         Kugitimo Health Centre  13723.0  Nyabasi east Ward   \n4    xt2lltkTLza  Ntimaru Sub-District Hospital  13858.0  Ntimaru west Ward   \n..           ...                            ...      ...                ...   \n660  H8zbf1TS3qy                    Got kachola  19928.0   Got kachola Ward   \n661  mQbyKWUNKMs            Oasis Doctors Plaza  20051.0         Oruba Ward   \n662  mQbyKWUNKMs            Oasis Doctors Plaza  20051.0         Oruba Ward   \n663  mQbyKWUNKMs            Oasis Doctors Plaza  20051.0         Oruba Ward   \n664  H8zbf1TS3qy                    Got kachola  19928.0   Got kachola Ward   \n\n                sub_county         county    indicator  \\\n0    Kuria East Sub County  Migori County  ETX9cUWF43c   \n1    Kuria East Sub County  Migori County  ETX9cUWF43c   \n2    Kuria East Sub County  Migori County  qSgLzXh46n9   \n3    Kuria East Sub County  Migori County  ETX9cUWF43c   \n4    Kuria East Sub County  Migori County  ETX9cUWF43c   \n..                     ...            ...          ...   \n660     Nyatike Sub County  Migori County  qSgLzXh46n9   \n661   Suna West Sub County  Migori County  ETX9cUWF43c   \n662   Suna West Sub County  Migori County  ETX9cUWF43c   \n663   Suna West Sub County  Migori County  ETX9cUWF43c   \n664     Nyatike Sub County  Migori County  ETX9cUWF43c   \n\n                                        indicator_name  period  dhis2_value  \\\n0           MOH 731  Initial test at ANC       HV02-04  2020Q1         64.0   \n1           MOH 731  Initial test at ANC       HV02-04  2019Q4        119.0   \n2    MOH 731  Known Positive at 1st  ANC       HV02-03  2020Q2          1.0   \n3           MOH 731  Initial test at ANC       HV02-04  2020Q2         46.0   \n4           MOH 731  Initial test at ANC       HV02-04  2020Q1        194.0   \n..                                                 ...     ...          ...   \n660  MOH 731  Known Positive at 1st  ANC       HV02-03  2019Q4          8.0   \n661         MOH 731  Initial test at ANC       HV02-04  2019Q4         27.0   \n662         MOH 731  Initial test at ANC       HV02-04  2020Q1         23.0   \n663         MOH 731  Initial test at ANC       HV02-04  2020Q2         34.0   \n664         MOH 731  Initial test at ANC       HV02-04  2020Q2         36.0   \n\n     datim_value  \n0           64.0  \n1          124.0  \n2            1.0  \n3           45.0  \n4          191.0  \n..           ...  \n660          8.0  \n661          6.0  \n662         19.0  \n663         32.0  \n664         35.0  \n\n[661 rows x 11 columns]",
      "text/html": "<div>\n<style scoped>\n    .dataframe tbody tr th:only-of-type {\n        vertical-align: middle;\n    }\n\n    .dataframe tbody tr th {\n        vertical-align: top;\n    }\n\n    .dataframe thead th {\n        text-align: right;\n    }\n</style>\n<table border=\"1\" class=\"dataframe\">\n  <thead>\n    <tr style=\"text-align: right;\">\n      <th></th>\n      <th>facilityuid</th>\n      <th>facility</th>\n      <th>code</th>\n      <th>ward</th>\n      <th>sub_county</th>\n      <th>county</th>\n      <th>indicator</th>\n      <th>indicator_name</th>\n      <th>period</th>\n      <th>dhis2_value</th>\n      <th>datim_value</th>\n    </tr>\n  </thead>\n  <tbody>\n    <tr>\n      <th>0</th>\n      <td>SZnkrFoimi2</td>\n      <td>Kugitimo Health Centre</td>\n      <td>13723.0</td>\n      <td>Nyabasi east Ward</td>\n      <td>Kuria East Sub County</td>\n      <td>Migori County</td>\n      <td>ETX9cUWF43c</td>\n      <td>MOH 731  Initial test at ANC       HV02-04</td>\n      <td>2020Q1</td>\n      <td>64.0</td>\n      <td>64.0</td>\n    </tr>\n    <tr>\n      <th>1</th>\n      <td>xt2lltkTLza</td>\n      <td>Ntimaru Sub-District Hospital</td>\n      <td>13858.0</td>\n      <td>Ntimaru west Ward</td>\n      <td>Kuria East Sub County</td>\n      <td>Migori County</td>\n      <td>ETX9cUWF43c</td>\n      <td>MOH 731  Initial test at ANC       HV02-04</td>\n      <td>2019Q4</td>\n      <td>119.0</td>\n      <td>124.0</td>\n    </tr>\n    <tr>\n      <th>2</th>\n      <td>NoZjHcIDHGW</td>\n      <td>Kegonga District Hospital</td>\n      <td>13663.0</td>\n      <td>Nyabasi east Ward</td>\n      <td>Kuria East Sub County</td>\n      <td>Migori County</td>\n      <td>qSgLzXh46n9</td>\n      <td>MOH 731  Known Positive at 1st  ANC       HV02-03</td>\n      <td>2020Q2</td>\n      <td>1.0</td>\n      <td>1.0</td>\n    </tr>\n    <tr>\n      <th>3</th>\n      <td>SZnkrFoimi2</td>\n      <td>Kugitimo Health Centre</td>\n      <td>13723.0</td>\n      <td>Nyabasi east Ward</td>\n      <td>Kuria East Sub County</td>\n      <td>Migori County</td>\n      <td>ETX9cUWF43c</td>\n      <td>MOH 731  Initial test at ANC       HV02-04</td>\n      <td>2020Q2</td>\n      <td>46.0</td>\n      <td>45.0</td>\n    </tr>\n    <tr>\n      <th>4</th>\n      <td>xt2lltkTLza</td>\n      <td>Ntimaru Sub-District Hospital</td>\n      <td>13858.0</td>\n      <td>Ntimaru west Ward</td>\n      <td>Kuria East Sub County</td>\n      <td>Migori County</td>\n      <td>ETX9cUWF43c</td>\n      <td>MOH 731  Initial test at ANC       HV02-04</td>\n      <td>2020Q1</td>\n      <td>194.0</td>\n      <td>191.0</td>\n    </tr>\n    <tr>\n      <th>...</th>\n      <td>...</td>\n      <td>...</td>\n      <td>...</td>\n      <td>...</td>\n      <td>...</td>\n      <td>...</td>\n      <td>...</td>\n      <td>...</td>\n      <td>...</td>\n      <td>...</td>\n      <td>...</td>\n    </tr>\n    <tr>\n      <th>660</th>\n      <td>H8zbf1TS3qy</td>\n      <td>Got kachola</td>\n      <td>19928.0</td>\n      <td>Got kachola Ward</td>\n      <td>Nyatike Sub County</td>\n      <td>Migori County</td>\n      <td>qSgLzXh46n9</td>\n      <td>MOH 731  Known Positive at 1st  ANC       HV02-03</td>\n      <td>2019Q4</td>\n      <td>8.0</td>\n      <td>8.0</td>\n    </tr>\n    <tr>\n      <th>661</th>\n      <td>mQbyKWUNKMs</td>\n      <td>Oasis Doctors Plaza</td>\n      <td>20051.0</td>\n      <td>Oruba Ward</td>\n      <td>Suna West Sub County</td>\n      <td>Migori County</td>\n      <td>ETX9cUWF43c</td>\n      <td>MOH 731  Initial test at ANC       HV02-04</td>\n      <td>2019Q4</td>\n      <td>27.0</td>\n      <td>6.0</td>\n    </tr>\n    <tr>\n      <th>662</th>\n      <td>mQbyKWUNKMs</td>\n      <td>Oasis Doctors Plaza</td>\n      <td>20051.0</td>\n      <td>Oruba Ward</td>\n      <td>Suna West Sub County</td>\n      <td>Migori County</td>\n      <td>ETX9cUWF43c</td>\n      <td>MOH 731  Initial test at ANC       HV02-04</td>\n      <td>2020Q1</td>\n      <td>23.0</td>\n      <td>19.0</td>\n    </tr>\n    <tr>\n      <th>663</th>\n      <td>mQbyKWUNKMs</td>\n      <td>Oasis Doctors Plaza</td>\n      <td>20051.0</td>\n      <td>Oruba Ward</td>\n      <td>Suna West Sub County</td>\n      <td>Migori County</td>\n      <td>ETX9cUWF43c</td>\n      <td>MOH 731  Initial test at ANC       HV02-04</td>\n      <td>2020Q2</td>\n      <td>34.0</td>\n      <td>32.0</td>\n    </tr>\n    <tr>\n      <th>664</th>\n      <td>H8zbf1TS3qy</td>\n      <td>Got kachola</td>\n      <td>19928.0</td>\n      <td>Got kachola Ward</td>\n      <td>Nyatike Sub County</td>\n      <td>Migori County</td>\n      <td>ETX9cUWF43c</td>\n      <td>MOH 731  Initial test at ANC       HV02-04</td>\n      <td>2020Q2</td>\n      <td>36.0</td>\n      <td>35.0</td>\n    </tr>\n  </tbody>\n</table>\n<p>661 rows × 11 columns</p>\n</div>"
     },
     "execution_count": 30,
     "metadata": {},
     "output_type": "execute_result"
    }
   ],
   "source": [
    "pmtct = pmtct.dropna(how=\"any\")\n",
    "pmtct"
   ],
   "metadata": {
    "collapsed": false,
    "pycharm": {
     "name": "#%%\n"
    }
   }
  },
  {
   "cell_type": "code",
   "execution_count": 31,
   "outputs": [
    {
     "name": "stdout",
     "output_type": "stream",
     "text": [
      "                    dhis2_value  datim_value\n",
      "facilityuid period                          \n",
      "B8Y8xuk4MFf 2019Q4         42.0         40.0\n",
      "            2020Q1         44.0         43.0\n",
      "            2020Q2         47.0         47.0\n",
      "BSIVRetkq9o 2019Q4         48.0         50.0\n",
      "            2020Q1         59.0         58.0\n",
      "...                         ...          ...\n",
      "z3nMgma1Kt1 2020Q1         26.0         25.0\n",
      "            2020Q2         44.0         42.0\n",
      "zwV7ekHDAwe 2019Q4         66.0         66.0\n",
      "            2020Q1         93.0         85.0\n",
      "            2020Q2         57.0         56.0\n",
      "\n",
      "[360 rows x 2 columns]\n"
     ]
    }
   ],
   "source": [
    "hts_df = hts.groupby(['facilityuid', 'period']).agg({'dhis2_value': 'sum', 'datim_value': 'sum'})\n",
    "\n",
    "# print the resulting dataframe\n",
    "print(hts_df)"
   ],
   "metadata": {
    "collapsed": false,
    "pycharm": {
     "name": "#%%\n"
    }
   }
  },
  {
   "cell_type": "code",
   "execution_count": 32,
   "outputs": [
    {
     "data": {
      "text/plain": "     facilityuid  period  dhis2_value  datim_value\n0    B8Y8xuk4MFf  2019Q4         42.0         40.0\n1    B8Y8xuk4MFf  2020Q1         44.0         43.0\n2    B8Y8xuk4MFf  2020Q2         47.0         47.0\n3    BSIVRetkq9o  2019Q4         48.0         50.0\n4    BSIVRetkq9o  2020Q1         59.0         58.0\n..           ...     ...          ...          ...\n355  z3nMgma1Kt1  2020Q1         26.0         25.0\n356  z3nMgma1Kt1  2020Q2         44.0         42.0\n357  zwV7ekHDAwe  2019Q4         66.0         66.0\n358  zwV7ekHDAwe  2020Q1         93.0         85.0\n359  zwV7ekHDAwe  2020Q2         57.0         56.0\n\n[360 rows x 4 columns]",
      "text/html": "<div>\n<style scoped>\n    .dataframe tbody tr th:only-of-type {\n        vertical-align: middle;\n    }\n\n    .dataframe tbody tr th {\n        vertical-align: top;\n    }\n\n    .dataframe thead th {\n        text-align: right;\n    }\n</style>\n<table border=\"1\" class=\"dataframe\">\n  <thead>\n    <tr style=\"text-align: right;\">\n      <th></th>\n      <th>facilityuid</th>\n      <th>period</th>\n      <th>dhis2_value</th>\n      <th>datim_value</th>\n    </tr>\n  </thead>\n  <tbody>\n    <tr>\n      <th>0</th>\n      <td>B8Y8xuk4MFf</td>\n      <td>2019Q4</td>\n      <td>42.0</td>\n      <td>40.0</td>\n    </tr>\n    <tr>\n      <th>1</th>\n      <td>B8Y8xuk4MFf</td>\n      <td>2020Q1</td>\n      <td>44.0</td>\n      <td>43.0</td>\n    </tr>\n    <tr>\n      <th>2</th>\n      <td>B8Y8xuk4MFf</td>\n      <td>2020Q2</td>\n      <td>47.0</td>\n      <td>47.0</td>\n    </tr>\n    <tr>\n      <th>3</th>\n      <td>BSIVRetkq9o</td>\n      <td>2019Q4</td>\n      <td>48.0</td>\n      <td>50.0</td>\n    </tr>\n    <tr>\n      <th>4</th>\n      <td>BSIVRetkq9o</td>\n      <td>2020Q1</td>\n      <td>59.0</td>\n      <td>58.0</td>\n    </tr>\n    <tr>\n      <th>...</th>\n      <td>...</td>\n      <td>...</td>\n      <td>...</td>\n      <td>...</td>\n    </tr>\n    <tr>\n      <th>355</th>\n      <td>z3nMgma1Kt1</td>\n      <td>2020Q1</td>\n      <td>26.0</td>\n      <td>25.0</td>\n    </tr>\n    <tr>\n      <th>356</th>\n      <td>z3nMgma1Kt1</td>\n      <td>2020Q2</td>\n      <td>44.0</td>\n      <td>42.0</td>\n    </tr>\n    <tr>\n      <th>357</th>\n      <td>zwV7ekHDAwe</td>\n      <td>2019Q4</td>\n      <td>66.0</td>\n      <td>66.0</td>\n    </tr>\n    <tr>\n      <th>358</th>\n      <td>zwV7ekHDAwe</td>\n      <td>2020Q1</td>\n      <td>93.0</td>\n      <td>85.0</td>\n    </tr>\n    <tr>\n      <th>359</th>\n      <td>zwV7ekHDAwe</td>\n      <td>2020Q2</td>\n      <td>57.0</td>\n      <td>56.0</td>\n    </tr>\n  </tbody>\n</table>\n<p>360 rows × 4 columns</p>\n</div>"
     },
     "execution_count": 32,
     "metadata": {},
     "output_type": "execute_result"
    }
   ],
   "source": [
    "hts_df = hts_df.reset_index()\n",
    "hts_df"
   ],
   "metadata": {
    "collapsed": false,
    "pycharm": {
     "name": "#%%\n"
    }
   }
  },
  {
   "cell_type": "code",
   "execution_count": 33,
   "outputs": [
    {
     "data": {
      "text/plain": "     facilityuid  period  total_dhis2_value  total_datim_value\n0    B8Y8xuk4MFf  2019Q4               42.0               40.0\n1    B8Y8xuk4MFf  2020Q1               44.0               43.0\n2    B8Y8xuk4MFf  2020Q2               47.0               47.0\n3    BSIVRetkq9o  2019Q4               48.0               50.0\n4    BSIVRetkq9o  2020Q1               59.0               58.0\n..           ...     ...                ...                ...\n355  z3nMgma1Kt1  2020Q1               26.0               25.0\n356  z3nMgma1Kt1  2020Q2               44.0               42.0\n357  zwV7ekHDAwe  2019Q4               66.0               66.0\n358  zwV7ekHDAwe  2020Q1               93.0               85.0\n359  zwV7ekHDAwe  2020Q2               57.0               56.0\n\n[360 rows x 4 columns]",
      "text/html": "<div>\n<style scoped>\n    .dataframe tbody tr th:only-of-type {\n        vertical-align: middle;\n    }\n\n    .dataframe tbody tr th {\n        vertical-align: top;\n    }\n\n    .dataframe thead th {\n        text-align: right;\n    }\n</style>\n<table border=\"1\" class=\"dataframe\">\n  <thead>\n    <tr style=\"text-align: right;\">\n      <th></th>\n      <th>facilityuid</th>\n      <th>period</th>\n      <th>total_dhis2_value</th>\n      <th>total_datim_value</th>\n    </tr>\n  </thead>\n  <tbody>\n    <tr>\n      <th>0</th>\n      <td>B8Y8xuk4MFf</td>\n      <td>2019Q4</td>\n      <td>42.0</td>\n      <td>40.0</td>\n    </tr>\n    <tr>\n      <th>1</th>\n      <td>B8Y8xuk4MFf</td>\n      <td>2020Q1</td>\n      <td>44.0</td>\n      <td>43.0</td>\n    </tr>\n    <tr>\n      <th>2</th>\n      <td>B8Y8xuk4MFf</td>\n      <td>2020Q2</td>\n      <td>47.0</td>\n      <td>47.0</td>\n    </tr>\n    <tr>\n      <th>3</th>\n      <td>BSIVRetkq9o</td>\n      <td>2019Q4</td>\n      <td>48.0</td>\n      <td>50.0</td>\n    </tr>\n    <tr>\n      <th>4</th>\n      <td>BSIVRetkq9o</td>\n      <td>2020Q1</td>\n      <td>59.0</td>\n      <td>58.0</td>\n    </tr>\n    <tr>\n      <th>...</th>\n      <td>...</td>\n      <td>...</td>\n      <td>...</td>\n      <td>...</td>\n    </tr>\n    <tr>\n      <th>355</th>\n      <td>z3nMgma1Kt1</td>\n      <td>2020Q1</td>\n      <td>26.0</td>\n      <td>25.0</td>\n    </tr>\n    <tr>\n      <th>356</th>\n      <td>z3nMgma1Kt1</td>\n      <td>2020Q2</td>\n      <td>44.0</td>\n      <td>42.0</td>\n    </tr>\n    <tr>\n      <th>357</th>\n      <td>zwV7ekHDAwe</td>\n      <td>2019Q4</td>\n      <td>66.0</td>\n      <td>66.0</td>\n    </tr>\n    <tr>\n      <th>358</th>\n      <td>zwV7ekHDAwe</td>\n      <td>2020Q1</td>\n      <td>93.0</td>\n      <td>85.0</td>\n    </tr>\n    <tr>\n      <th>359</th>\n      <td>zwV7ekHDAwe</td>\n      <td>2020Q2</td>\n      <td>57.0</td>\n      <td>56.0</td>\n    </tr>\n  </tbody>\n</table>\n<p>360 rows × 4 columns</p>\n</div>"
     },
     "execution_count": 33,
     "metadata": {},
     "output_type": "execute_result"
    }
   ],
   "source": [
    "hts_df = hts_df.rename(columns={'dhis2_value': 'total_dhis2_value', 'datim_value': 'total_datim_value'})\n",
    "hts_df"
   ],
   "metadata": {
    "collapsed": false,
    "pycharm": {
     "name": "#%%\n"
    }
   }
  },
  {
   "cell_type": "code",
   "execution_count": 34,
   "outputs": [
    {
     "data": {
      "text/plain": "     facilityuid  period  total_dhis2_value  total_datim_value  difference\n0    B8Y8xuk4MFf  2019Q4               42.0               40.0         2.0\n1    B8Y8xuk4MFf  2020Q1               44.0               43.0         1.0\n2    B8Y8xuk4MFf  2020Q2               47.0               47.0         0.0\n3    BSIVRetkq9o  2019Q4               48.0               50.0        -2.0\n4    BSIVRetkq9o  2020Q1               59.0               58.0         1.0\n..           ...     ...                ...                ...         ...\n355  z3nMgma1Kt1  2020Q1               26.0               25.0         1.0\n356  z3nMgma1Kt1  2020Q2               44.0               42.0         2.0\n357  zwV7ekHDAwe  2019Q4               66.0               66.0         0.0\n358  zwV7ekHDAwe  2020Q1               93.0               85.0         8.0\n359  zwV7ekHDAwe  2020Q2               57.0               56.0         1.0\n\n[360 rows x 5 columns]",
      "text/html": "<div>\n<style scoped>\n    .dataframe tbody tr th:only-of-type {\n        vertical-align: middle;\n    }\n\n    .dataframe tbody tr th {\n        vertical-align: top;\n    }\n\n    .dataframe thead th {\n        text-align: right;\n    }\n</style>\n<table border=\"1\" class=\"dataframe\">\n  <thead>\n    <tr style=\"text-align: right;\">\n      <th></th>\n      <th>facilityuid</th>\n      <th>period</th>\n      <th>total_dhis2_value</th>\n      <th>total_datim_value</th>\n      <th>difference</th>\n    </tr>\n  </thead>\n  <tbody>\n    <tr>\n      <th>0</th>\n      <td>B8Y8xuk4MFf</td>\n      <td>2019Q4</td>\n      <td>42.0</td>\n      <td>40.0</td>\n      <td>2.0</td>\n    </tr>\n    <tr>\n      <th>1</th>\n      <td>B8Y8xuk4MFf</td>\n      <td>2020Q1</td>\n      <td>44.0</td>\n      <td>43.0</td>\n      <td>1.0</td>\n    </tr>\n    <tr>\n      <th>2</th>\n      <td>B8Y8xuk4MFf</td>\n      <td>2020Q2</td>\n      <td>47.0</td>\n      <td>47.0</td>\n      <td>0.0</td>\n    </tr>\n    <tr>\n      <th>3</th>\n      <td>BSIVRetkq9o</td>\n      <td>2019Q4</td>\n      <td>48.0</td>\n      <td>50.0</td>\n      <td>-2.0</td>\n    </tr>\n    <tr>\n      <th>4</th>\n      <td>BSIVRetkq9o</td>\n      <td>2020Q1</td>\n      <td>59.0</td>\n      <td>58.0</td>\n      <td>1.0</td>\n    </tr>\n    <tr>\n      <th>...</th>\n      <td>...</td>\n      <td>...</td>\n      <td>...</td>\n      <td>...</td>\n      <td>...</td>\n    </tr>\n    <tr>\n      <th>355</th>\n      <td>z3nMgma1Kt1</td>\n      <td>2020Q1</td>\n      <td>26.0</td>\n      <td>25.0</td>\n      <td>1.0</td>\n    </tr>\n    <tr>\n      <th>356</th>\n      <td>z3nMgma1Kt1</td>\n      <td>2020Q2</td>\n      <td>44.0</td>\n      <td>42.0</td>\n      <td>2.0</td>\n    </tr>\n    <tr>\n      <th>357</th>\n      <td>zwV7ekHDAwe</td>\n      <td>2019Q4</td>\n      <td>66.0</td>\n      <td>66.0</td>\n      <td>0.0</td>\n    </tr>\n    <tr>\n      <th>358</th>\n      <td>zwV7ekHDAwe</td>\n      <td>2020Q1</td>\n      <td>93.0</td>\n      <td>85.0</td>\n      <td>8.0</td>\n    </tr>\n    <tr>\n      <th>359</th>\n      <td>zwV7ekHDAwe</td>\n      <td>2020Q2</td>\n      <td>57.0</td>\n      <td>56.0</td>\n      <td>1.0</td>\n    </tr>\n  </tbody>\n</table>\n<p>360 rows × 5 columns</p>\n</div>"
     },
     "execution_count": 34,
     "metadata": {},
     "output_type": "execute_result"
    }
   ],
   "source": [
    "hts_df[\"difference\"] = hts_df[\"total_dhis2_value\"] - hts_df[\"total_datim_value\"]\n",
    "hts_df"
   ],
   "metadata": {
    "collapsed": false,
    "pycharm": {
     "name": "#%%\n"
    }
   }
  },
  {
   "cell_type": "code",
   "execution_count": 35,
   "outputs": [
    {
     "data": {
      "text/plain": "     facilityuid  period  total_dhis2_value  total_datim_value  difference  \\\n0    B8Y8xuk4MFf  2019Q4               42.0               40.0         2.0   \n1    B8Y8xuk4MFf  2020Q1               44.0               43.0         1.0   \n2    B8Y8xuk4MFf  2020Q2               47.0               47.0         0.0   \n3    BSIVRetkq9o  2019Q4               48.0               50.0        -2.0   \n4    BSIVRetkq9o  2020Q1               59.0               58.0         1.0   \n..           ...     ...                ...                ...         ...   \n355  z3nMgma1Kt1  2020Q1               26.0               25.0         1.0   \n356  z3nMgma1Kt1  2020Q2               44.0               42.0         2.0   \n357  zwV7ekHDAwe  2019Q4               66.0               66.0         0.0   \n358  zwV7ekHDAwe  2020Q1               93.0               85.0         8.0   \n359  zwV7ekHDAwe  2020Q2               57.0               56.0         1.0   \n\n     percentage_difference  \n0                 5.000000  \n1                 2.325581  \n2                 0.000000  \n3                 4.000000  \n4                 1.724138  \n..                     ...  \n355               4.000000  \n356               4.761905  \n357               0.000000  \n358               9.411765  \n359               1.785714  \n\n[360 rows x 6 columns]",
      "text/html": "<div>\n<style scoped>\n    .dataframe tbody tr th:only-of-type {\n        vertical-align: middle;\n    }\n\n    .dataframe tbody tr th {\n        vertical-align: top;\n    }\n\n    .dataframe thead th {\n        text-align: right;\n    }\n</style>\n<table border=\"1\" class=\"dataframe\">\n  <thead>\n    <tr style=\"text-align: right;\">\n      <th></th>\n      <th>facilityuid</th>\n      <th>period</th>\n      <th>total_dhis2_value</th>\n      <th>total_datim_value</th>\n      <th>difference</th>\n      <th>percentage_difference</th>\n    </tr>\n  </thead>\n  <tbody>\n    <tr>\n      <th>0</th>\n      <td>B8Y8xuk4MFf</td>\n      <td>2019Q4</td>\n      <td>42.0</td>\n      <td>40.0</td>\n      <td>2.0</td>\n      <td>5.000000</td>\n    </tr>\n    <tr>\n      <th>1</th>\n      <td>B8Y8xuk4MFf</td>\n      <td>2020Q1</td>\n      <td>44.0</td>\n      <td>43.0</td>\n      <td>1.0</td>\n      <td>2.325581</td>\n    </tr>\n    <tr>\n      <th>2</th>\n      <td>B8Y8xuk4MFf</td>\n      <td>2020Q2</td>\n      <td>47.0</td>\n      <td>47.0</td>\n      <td>0.0</td>\n      <td>0.000000</td>\n    </tr>\n    <tr>\n      <th>3</th>\n      <td>BSIVRetkq9o</td>\n      <td>2019Q4</td>\n      <td>48.0</td>\n      <td>50.0</td>\n      <td>-2.0</td>\n      <td>4.000000</td>\n    </tr>\n    <tr>\n      <th>4</th>\n      <td>BSIVRetkq9o</td>\n      <td>2020Q1</td>\n      <td>59.0</td>\n      <td>58.0</td>\n      <td>1.0</td>\n      <td>1.724138</td>\n    </tr>\n    <tr>\n      <th>...</th>\n      <td>...</td>\n      <td>...</td>\n      <td>...</td>\n      <td>...</td>\n      <td>...</td>\n      <td>...</td>\n    </tr>\n    <tr>\n      <th>355</th>\n      <td>z3nMgma1Kt1</td>\n      <td>2020Q1</td>\n      <td>26.0</td>\n      <td>25.0</td>\n      <td>1.0</td>\n      <td>4.000000</td>\n    </tr>\n    <tr>\n      <th>356</th>\n      <td>z3nMgma1Kt1</td>\n      <td>2020Q2</td>\n      <td>44.0</td>\n      <td>42.0</td>\n      <td>2.0</td>\n      <td>4.761905</td>\n    </tr>\n    <tr>\n      <th>357</th>\n      <td>zwV7ekHDAwe</td>\n      <td>2019Q4</td>\n      <td>66.0</td>\n      <td>66.0</td>\n      <td>0.0</td>\n      <td>0.000000</td>\n    </tr>\n    <tr>\n      <th>358</th>\n      <td>zwV7ekHDAwe</td>\n      <td>2020Q1</td>\n      <td>93.0</td>\n      <td>85.0</td>\n      <td>8.0</td>\n      <td>9.411765</td>\n    </tr>\n    <tr>\n      <th>359</th>\n      <td>zwV7ekHDAwe</td>\n      <td>2020Q2</td>\n      <td>57.0</td>\n      <td>56.0</td>\n      <td>1.0</td>\n      <td>1.785714</td>\n    </tr>\n  </tbody>\n</table>\n<p>360 rows × 6 columns</p>\n</div>"
     },
     "execution_count": 35,
     "metadata": {},
     "output_type": "execute_result"
    }
   ],
   "source": [
    "hts_df[\"percentage_difference\"] = abs((hts_df[\"difference\"] / hts_df[\"total_datim_value\"]) * 100)\n",
    "hts_df"
   ],
   "metadata": {
    "collapsed": false,
    "pycharm": {
     "name": "#%%\n"
    }
   }
  },
  {
   "cell_type": "code",
   "execution_count": 38,
   "outputs": [
    {
     "name": "stdout",
     "output_type": "stream",
     "text": [
      "     facilityuid                       facility     code               ward  \\\n",
      "0    SZnkrFoimi2         Kugitimo Health Centre  13723.0  Nyabasi east Ward   \n",
      "1    xt2lltkTLza  Ntimaru Sub-District Hospital  13858.0  Ntimaru west Ward   \n",
      "2    NoZjHcIDHGW      Kegonga District Hospital  13663.0  Nyabasi east Ward   \n",
      "3    SZnkrFoimi2         Kugitimo Health Centre  13723.0  Nyabasi east Ward   \n",
      "4    xt2lltkTLza  Ntimaru Sub-District Hospital  13858.0  Ntimaru west Ward   \n",
      "..           ...                            ...      ...                ...   \n",
      "660  H8zbf1TS3qy                    Got kachola  19928.0   Got kachola Ward   \n",
      "661  mQbyKWUNKMs            Oasis Doctors Plaza  20051.0         Oruba Ward   \n",
      "662  mQbyKWUNKMs            Oasis Doctors Plaza  20051.0         Oruba Ward   \n",
      "663  mQbyKWUNKMs            Oasis Doctors Plaza  20051.0         Oruba Ward   \n",
      "664  H8zbf1TS3qy                    Got kachola  19928.0   Got kachola Ward   \n",
      "\n",
      "                sub_county         county    indicator  \\\n",
      "0    Kuria East Sub County  Migori County  ETX9cUWF43c   \n",
      "1    Kuria East Sub County  Migori County  ETX9cUWF43c   \n",
      "2    Kuria East Sub County  Migori County  qSgLzXh46n9   \n",
      "3    Kuria East Sub County  Migori County  ETX9cUWF43c   \n",
      "4    Kuria East Sub County  Migori County  ETX9cUWF43c   \n",
      "..                     ...            ...          ...   \n",
      "660     Nyatike Sub County  Migori County  qSgLzXh46n9   \n",
      "661   Suna West Sub County  Migori County  ETX9cUWF43c   \n",
      "662   Suna West Sub County  Migori County  ETX9cUWF43c   \n",
      "663   Suna West Sub County  Migori County  ETX9cUWF43c   \n",
      "664     Nyatike Sub County  Migori County  ETX9cUWF43c   \n",
      "\n",
      "                                        indicator_name  period  dhis2_value  \\\n",
      "0           MOH 731  Initial test at ANC       HV02-04  2020Q1         64.0   \n",
      "1           MOH 731  Initial test at ANC       HV02-04  2019Q4        119.0   \n",
      "2    MOH 731  Known Positive at 1st  ANC       HV02-03  2020Q2          1.0   \n",
      "3           MOH 731  Initial test at ANC       HV02-04  2020Q2         46.0   \n",
      "4           MOH 731  Initial test at ANC       HV02-04  2020Q1        194.0   \n",
      "..                                                 ...     ...          ...   \n",
      "660  MOH 731  Known Positive at 1st  ANC       HV02-03  2019Q4          8.0   \n",
      "661         MOH 731  Initial test at ANC       HV02-04  2019Q4         27.0   \n",
      "662         MOH 731  Initial test at ANC       HV02-04  2020Q1         23.0   \n",
      "663         MOH 731  Initial test at ANC       HV02-04  2020Q2         34.0   \n",
      "664         MOH 731  Initial test at ANC       HV02-04  2020Q2         36.0   \n",
      "\n",
      "     datim_value  \n",
      "0           64.0  \n",
      "1          124.0  \n",
      "2            1.0  \n",
      "3           45.0  \n",
      "4          191.0  \n",
      "..           ...  \n",
      "660          8.0  \n",
      "661          6.0  \n",
      "662         19.0  \n",
      "663         32.0  \n",
      "664         35.0  \n",
      "\n",
      "[661 rows x 11 columns]\n"
     ]
    }
   ],
   "source": [
    "pmtct_df = pmtct.groupby(['facilityuid', 'period']).agg({'dhis2_value': 'sum', 'datim_value': 'sum'})\n",
    "\n",
    "# print the resulting dataframe\n",
    "print(pmtct)"
   ],
   "metadata": {
    "collapsed": false,
    "pycharm": {
     "name": "#%%\n"
    }
   }
  },
  {
   "cell_type": "code",
   "execution_count": 41,
   "outputs": [
    {
     "data": {
      "text/plain": "     facilityuid  period  total_pmtct_dhis2_value  total_pmtct_datim_value\n0    B8Y8xuk4MFf  2019Q4                     42.0                     40.0\n1    B8Y8xuk4MFf  2020Q1                     44.0                     43.0\n2    B8Y8xuk4MFf  2020Q2                     47.0                     47.0\n3    BSIVRetkq9o  2019Q4                     48.0                     50.0\n4    BSIVRetkq9o  2020Q1                     59.0                     58.0\n..           ...     ...                      ...                      ...\n355  z3nMgma1Kt1  2020Q1                     26.0                     25.0\n356  z3nMgma1Kt1  2020Q2                     44.0                     42.0\n357  zwV7ekHDAwe  2019Q4                     66.0                     66.0\n358  zwV7ekHDAwe  2020Q1                     93.0                     85.0\n359  zwV7ekHDAwe  2020Q2                     57.0                     56.0\n\n[360 rows x 4 columns]",
      "text/html": "<div>\n<style scoped>\n    .dataframe tbody tr th:only-of-type {\n        vertical-align: middle;\n    }\n\n    .dataframe tbody tr th {\n        vertical-align: top;\n    }\n\n    .dataframe thead th {\n        text-align: right;\n    }\n</style>\n<table border=\"1\" class=\"dataframe\">\n  <thead>\n    <tr style=\"text-align: right;\">\n      <th></th>\n      <th>facilityuid</th>\n      <th>period</th>\n      <th>total_pmtct_dhis2_value</th>\n      <th>total_pmtct_datim_value</th>\n    </tr>\n  </thead>\n  <tbody>\n    <tr>\n      <th>0</th>\n      <td>B8Y8xuk4MFf</td>\n      <td>2019Q4</td>\n      <td>42.0</td>\n      <td>40.0</td>\n    </tr>\n    <tr>\n      <th>1</th>\n      <td>B8Y8xuk4MFf</td>\n      <td>2020Q1</td>\n      <td>44.0</td>\n      <td>43.0</td>\n    </tr>\n    <tr>\n      <th>2</th>\n      <td>B8Y8xuk4MFf</td>\n      <td>2020Q2</td>\n      <td>47.0</td>\n      <td>47.0</td>\n    </tr>\n    <tr>\n      <th>3</th>\n      <td>BSIVRetkq9o</td>\n      <td>2019Q4</td>\n      <td>48.0</td>\n      <td>50.0</td>\n    </tr>\n    <tr>\n      <th>4</th>\n      <td>BSIVRetkq9o</td>\n      <td>2020Q1</td>\n      <td>59.0</td>\n      <td>58.0</td>\n    </tr>\n    <tr>\n      <th>...</th>\n      <td>...</td>\n      <td>...</td>\n      <td>...</td>\n      <td>...</td>\n    </tr>\n    <tr>\n      <th>355</th>\n      <td>z3nMgma1Kt1</td>\n      <td>2020Q1</td>\n      <td>26.0</td>\n      <td>25.0</td>\n    </tr>\n    <tr>\n      <th>356</th>\n      <td>z3nMgma1Kt1</td>\n      <td>2020Q2</td>\n      <td>44.0</td>\n      <td>42.0</td>\n    </tr>\n    <tr>\n      <th>357</th>\n      <td>zwV7ekHDAwe</td>\n      <td>2019Q4</td>\n      <td>66.0</td>\n      <td>66.0</td>\n    </tr>\n    <tr>\n      <th>358</th>\n      <td>zwV7ekHDAwe</td>\n      <td>2020Q1</td>\n      <td>93.0</td>\n      <td>85.0</td>\n    </tr>\n    <tr>\n      <th>359</th>\n      <td>zwV7ekHDAwe</td>\n      <td>2020Q2</td>\n      <td>57.0</td>\n      <td>56.0</td>\n    </tr>\n  </tbody>\n</table>\n<p>360 rows × 4 columns</p>\n</div>"
     },
     "execution_count": 41,
     "metadata": {},
     "output_type": "execute_result"
    }
   ],
   "source": [
    "pmtct_df = pmtct_df.rename(columns={'dhis2_value': 'total_pmtct_dhis2_value', 'datim_value': 'total_pmtct_datim_value'})\n",
    "pmtct_df"
   ],
   "metadata": {
    "collapsed": false,
    "pycharm": {
     "name": "#%%\n"
    }
   }
  },
  {
   "cell_type": "code",
   "execution_count": 42,
   "outputs": [
    {
     "data": {
      "text/plain": "     index  facilityuid  period  total_pmtct_dhis2_value  \\\n0        0  B8Y8xuk4MFf  2019Q4                     42.0   \n1        1  B8Y8xuk4MFf  2020Q1                     44.0   \n2        2  B8Y8xuk4MFf  2020Q2                     47.0   \n3        3  BSIVRetkq9o  2019Q4                     48.0   \n4        4  BSIVRetkq9o  2020Q1                     59.0   \n..     ...          ...     ...                      ...   \n355    355  z3nMgma1Kt1  2020Q1                     26.0   \n356    356  z3nMgma1Kt1  2020Q2                     44.0   \n357    357  zwV7ekHDAwe  2019Q4                     66.0   \n358    358  zwV7ekHDAwe  2020Q1                     93.0   \n359    359  zwV7ekHDAwe  2020Q2                     57.0   \n\n     total_pmtct_datim_value  \n0                       40.0  \n1                       43.0  \n2                       47.0  \n3                       50.0  \n4                       58.0  \n..                       ...  \n355                     25.0  \n356                     42.0  \n357                     66.0  \n358                     85.0  \n359                     56.0  \n\n[360 rows x 5 columns]",
      "text/html": "<div>\n<style scoped>\n    .dataframe tbody tr th:only-of-type {\n        vertical-align: middle;\n    }\n\n    .dataframe tbody tr th {\n        vertical-align: top;\n    }\n\n    .dataframe thead th {\n        text-align: right;\n    }\n</style>\n<table border=\"1\" class=\"dataframe\">\n  <thead>\n    <tr style=\"text-align: right;\">\n      <th></th>\n      <th>index</th>\n      <th>facilityuid</th>\n      <th>period</th>\n      <th>total_pmtct_dhis2_value</th>\n      <th>total_pmtct_datim_value</th>\n    </tr>\n  </thead>\n  <tbody>\n    <tr>\n      <th>0</th>\n      <td>0</td>\n      <td>B8Y8xuk4MFf</td>\n      <td>2019Q4</td>\n      <td>42.0</td>\n      <td>40.0</td>\n    </tr>\n    <tr>\n      <th>1</th>\n      <td>1</td>\n      <td>B8Y8xuk4MFf</td>\n      <td>2020Q1</td>\n      <td>44.0</td>\n      <td>43.0</td>\n    </tr>\n    <tr>\n      <th>2</th>\n      <td>2</td>\n      <td>B8Y8xuk4MFf</td>\n      <td>2020Q2</td>\n      <td>47.0</td>\n      <td>47.0</td>\n    </tr>\n    <tr>\n      <th>3</th>\n      <td>3</td>\n      <td>BSIVRetkq9o</td>\n      <td>2019Q4</td>\n      <td>48.0</td>\n      <td>50.0</td>\n    </tr>\n    <tr>\n      <th>4</th>\n      <td>4</td>\n      <td>BSIVRetkq9o</td>\n      <td>2020Q1</td>\n      <td>59.0</td>\n      <td>58.0</td>\n    </tr>\n    <tr>\n      <th>...</th>\n      <td>...</td>\n      <td>...</td>\n      <td>...</td>\n      <td>...</td>\n      <td>...</td>\n    </tr>\n    <tr>\n      <th>355</th>\n      <td>355</td>\n      <td>z3nMgma1Kt1</td>\n      <td>2020Q1</td>\n      <td>26.0</td>\n      <td>25.0</td>\n    </tr>\n    <tr>\n      <th>356</th>\n      <td>356</td>\n      <td>z3nMgma1Kt1</td>\n      <td>2020Q2</td>\n      <td>44.0</td>\n      <td>42.0</td>\n    </tr>\n    <tr>\n      <th>357</th>\n      <td>357</td>\n      <td>zwV7ekHDAwe</td>\n      <td>2019Q4</td>\n      <td>66.0</td>\n      <td>66.0</td>\n    </tr>\n    <tr>\n      <th>358</th>\n      <td>358</td>\n      <td>zwV7ekHDAwe</td>\n      <td>2020Q1</td>\n      <td>93.0</td>\n      <td>85.0</td>\n    </tr>\n    <tr>\n      <th>359</th>\n      <td>359</td>\n      <td>zwV7ekHDAwe</td>\n      <td>2020Q2</td>\n      <td>57.0</td>\n      <td>56.0</td>\n    </tr>\n  </tbody>\n</table>\n<p>360 rows × 5 columns</p>\n</div>"
     },
     "execution_count": 42,
     "metadata": {},
     "output_type": "execute_result"
    }
   ],
   "source": [
    "pmtct_df = pmtct_df.reset_index()\n",
    "pmtct_df"
   ],
   "metadata": {
    "collapsed": false,
    "pycharm": {
     "name": "#%%\n"
    }
   }
  },
  {
   "cell_type": "code",
   "execution_count": 43,
   "outputs": [
    {
     "data": {
      "text/plain": "     facilityuid  period  total_dhis2_value  total_datim_value  difference  \\\n0    B8Y8xuk4MFf  2019Q4               42.0               40.0         2.0   \n1    B8Y8xuk4MFf  2020Q1               44.0               43.0         1.0   \n2    B8Y8xuk4MFf  2020Q2               47.0               47.0         0.0   \n3    BSIVRetkq9o  2019Q4               48.0               50.0        -2.0   \n4    BSIVRetkq9o  2020Q1               59.0               58.0         1.0   \n..           ...     ...                ...                ...         ...   \n355  z3nMgma1Kt1  2020Q1               26.0               25.0         1.0   \n356  z3nMgma1Kt1  2020Q2               44.0               42.0         2.0   \n357  zwV7ekHDAwe  2019Q4               66.0               66.0         0.0   \n358  zwV7ekHDAwe  2020Q1               93.0               85.0         8.0   \n359  zwV7ekHDAwe  2020Q2               57.0               56.0         1.0   \n\n     percentage_difference  index  total_pmtct_dhis2_value  \\\n0                 5.000000      0                     42.0   \n1                 2.325581      1                     44.0   \n2                 0.000000      2                     47.0   \n3                 4.000000      3                     48.0   \n4                 1.724138      4                     59.0   \n..                     ...    ...                      ...   \n355               4.000000    355                     26.0   \n356               4.761905    356                     44.0   \n357               0.000000    357                     66.0   \n358               9.411765    358                     93.0   \n359               1.785714    359                     57.0   \n\n     total_pmtct_datim_value  \n0                       40.0  \n1                       43.0  \n2                       47.0  \n3                       50.0  \n4                       58.0  \n..                       ...  \n355                     25.0  \n356                     42.0  \n357                     66.0  \n358                     85.0  \n359                     56.0  \n\n[360 rows x 9 columns]",
      "text/html": "<div>\n<style scoped>\n    .dataframe tbody tr th:only-of-type {\n        vertical-align: middle;\n    }\n\n    .dataframe tbody tr th {\n        vertical-align: top;\n    }\n\n    .dataframe thead th {\n        text-align: right;\n    }\n</style>\n<table border=\"1\" class=\"dataframe\">\n  <thead>\n    <tr style=\"text-align: right;\">\n      <th></th>\n      <th>facilityuid</th>\n      <th>period</th>\n      <th>total_dhis2_value</th>\n      <th>total_datim_value</th>\n      <th>difference</th>\n      <th>percentage_difference</th>\n      <th>index</th>\n      <th>total_pmtct_dhis2_value</th>\n      <th>total_pmtct_datim_value</th>\n    </tr>\n  </thead>\n  <tbody>\n    <tr>\n      <th>0</th>\n      <td>B8Y8xuk4MFf</td>\n      <td>2019Q4</td>\n      <td>42.0</td>\n      <td>40.0</td>\n      <td>2.0</td>\n      <td>5.000000</td>\n      <td>0</td>\n      <td>42.0</td>\n      <td>40.0</td>\n    </tr>\n    <tr>\n      <th>1</th>\n      <td>B8Y8xuk4MFf</td>\n      <td>2020Q1</td>\n      <td>44.0</td>\n      <td>43.0</td>\n      <td>1.0</td>\n      <td>2.325581</td>\n      <td>1</td>\n      <td>44.0</td>\n      <td>43.0</td>\n    </tr>\n    <tr>\n      <th>2</th>\n      <td>B8Y8xuk4MFf</td>\n      <td>2020Q2</td>\n      <td>47.0</td>\n      <td>47.0</td>\n      <td>0.0</td>\n      <td>0.000000</td>\n      <td>2</td>\n      <td>47.0</td>\n      <td>47.0</td>\n    </tr>\n    <tr>\n      <th>3</th>\n      <td>BSIVRetkq9o</td>\n      <td>2019Q4</td>\n      <td>48.0</td>\n      <td>50.0</td>\n      <td>-2.0</td>\n      <td>4.000000</td>\n      <td>3</td>\n      <td>48.0</td>\n      <td>50.0</td>\n    </tr>\n    <tr>\n      <th>4</th>\n      <td>BSIVRetkq9o</td>\n      <td>2020Q1</td>\n      <td>59.0</td>\n      <td>58.0</td>\n      <td>1.0</td>\n      <td>1.724138</td>\n      <td>4</td>\n      <td>59.0</td>\n      <td>58.0</td>\n    </tr>\n    <tr>\n      <th>...</th>\n      <td>...</td>\n      <td>...</td>\n      <td>...</td>\n      <td>...</td>\n      <td>...</td>\n      <td>...</td>\n      <td>...</td>\n      <td>...</td>\n      <td>...</td>\n    </tr>\n    <tr>\n      <th>355</th>\n      <td>z3nMgma1Kt1</td>\n      <td>2020Q1</td>\n      <td>26.0</td>\n      <td>25.0</td>\n      <td>1.0</td>\n      <td>4.000000</td>\n      <td>355</td>\n      <td>26.0</td>\n      <td>25.0</td>\n    </tr>\n    <tr>\n      <th>356</th>\n      <td>z3nMgma1Kt1</td>\n      <td>2020Q2</td>\n      <td>44.0</td>\n      <td>42.0</td>\n      <td>2.0</td>\n      <td>4.761905</td>\n      <td>356</td>\n      <td>44.0</td>\n      <td>42.0</td>\n    </tr>\n    <tr>\n      <th>357</th>\n      <td>zwV7ekHDAwe</td>\n      <td>2019Q4</td>\n      <td>66.0</td>\n      <td>66.0</td>\n      <td>0.0</td>\n      <td>0.000000</td>\n      <td>357</td>\n      <td>66.0</td>\n      <td>66.0</td>\n    </tr>\n    <tr>\n      <th>358</th>\n      <td>zwV7ekHDAwe</td>\n      <td>2020Q1</td>\n      <td>93.0</td>\n      <td>85.0</td>\n      <td>8.0</td>\n      <td>9.411765</td>\n      <td>358</td>\n      <td>93.0</td>\n      <td>85.0</td>\n    </tr>\n    <tr>\n      <th>359</th>\n      <td>zwV7ekHDAwe</td>\n      <td>2020Q2</td>\n      <td>57.0</td>\n      <td>56.0</td>\n      <td>1.0</td>\n      <td>1.785714</td>\n      <td>359</td>\n      <td>57.0</td>\n      <td>56.0</td>\n    </tr>\n  </tbody>\n</table>\n<p>360 rows × 9 columns</p>\n</div>"
     },
     "execution_count": 43,
     "metadata": {},
     "output_type": "execute_result"
    }
   ],
   "source": [
    "merged_data = pd.merge(hts_df, pmtct_df, on=[\"facilityuid\", \"period\"])\n",
    "merged_data"
   ],
   "metadata": {
    "collapsed": false,
    "pycharm": {
     "name": "#%%\n"
    }
   }
  },
  {
   "cell_type": "code",
   "execution_count": 45,
   "outputs": [
    {
     "data": {
      "text/plain": "     facilityuid  period  total_dhis2_value  total_datim_value  difference  \\\n0    B8Y8xuk4MFf  2019Q4               42.0               40.0         2.0   \n1    B8Y8xuk4MFf  2020Q1               44.0               43.0         1.0   \n2    B8Y8xuk4MFf  2020Q2               47.0               47.0         0.0   \n3    BSIVRetkq9o  2019Q4               48.0               50.0        -2.0   \n4    BSIVRetkq9o  2020Q1               59.0               58.0         1.0   \n..           ...     ...                ...                ...         ...   \n355  z3nMgma1Kt1  2020Q1               26.0               25.0         1.0   \n356  z3nMgma1Kt1  2020Q2               44.0               42.0         2.0   \n357  zwV7ekHDAwe  2019Q4               66.0               66.0         0.0   \n358  zwV7ekHDAwe  2020Q1               93.0               85.0         8.0   \n359  zwV7ekHDAwe  2020Q2               57.0               56.0         1.0   \n\n     percentage_difference  total_pmtct_dhis2_value  total_pmtct_datim_value  \n0                 5.000000                     42.0                     40.0  \n1                 2.325581                     44.0                     43.0  \n2                 0.000000                     47.0                     47.0  \n3                 4.000000                     48.0                     50.0  \n4                 1.724138                     59.0                     58.0  \n..                     ...                      ...                      ...  \n355               4.000000                     26.0                     25.0  \n356               4.761905                     44.0                     42.0  \n357               0.000000                     66.0                     66.0  \n358               9.411765                     93.0                     85.0  \n359               1.785714                     57.0                     56.0  \n\n[360 rows x 8 columns]",
      "text/html": "<div>\n<style scoped>\n    .dataframe tbody tr th:only-of-type {\n        vertical-align: middle;\n    }\n\n    .dataframe tbody tr th {\n        vertical-align: top;\n    }\n\n    .dataframe thead th {\n        text-align: right;\n    }\n</style>\n<table border=\"1\" class=\"dataframe\">\n  <thead>\n    <tr style=\"text-align: right;\">\n      <th></th>\n      <th>facilityuid</th>\n      <th>period</th>\n      <th>total_dhis2_value</th>\n      <th>total_datim_value</th>\n      <th>difference</th>\n      <th>percentage_difference</th>\n      <th>total_pmtct_dhis2_value</th>\n      <th>total_pmtct_datim_value</th>\n    </tr>\n  </thead>\n  <tbody>\n    <tr>\n      <th>0</th>\n      <td>B8Y8xuk4MFf</td>\n      <td>2019Q4</td>\n      <td>42.0</td>\n      <td>40.0</td>\n      <td>2.0</td>\n      <td>5.000000</td>\n      <td>42.0</td>\n      <td>40.0</td>\n    </tr>\n    <tr>\n      <th>1</th>\n      <td>B8Y8xuk4MFf</td>\n      <td>2020Q1</td>\n      <td>44.0</td>\n      <td>43.0</td>\n      <td>1.0</td>\n      <td>2.325581</td>\n      <td>44.0</td>\n      <td>43.0</td>\n    </tr>\n    <tr>\n      <th>2</th>\n      <td>B8Y8xuk4MFf</td>\n      <td>2020Q2</td>\n      <td>47.0</td>\n      <td>47.0</td>\n      <td>0.0</td>\n      <td>0.000000</td>\n      <td>47.0</td>\n      <td>47.0</td>\n    </tr>\n    <tr>\n      <th>3</th>\n      <td>BSIVRetkq9o</td>\n      <td>2019Q4</td>\n      <td>48.0</td>\n      <td>50.0</td>\n      <td>-2.0</td>\n      <td>4.000000</td>\n      <td>48.0</td>\n      <td>50.0</td>\n    </tr>\n    <tr>\n      <th>4</th>\n      <td>BSIVRetkq9o</td>\n      <td>2020Q1</td>\n      <td>59.0</td>\n      <td>58.0</td>\n      <td>1.0</td>\n      <td>1.724138</td>\n      <td>59.0</td>\n      <td>58.0</td>\n    </tr>\n    <tr>\n      <th>...</th>\n      <td>...</td>\n      <td>...</td>\n      <td>...</td>\n      <td>...</td>\n      <td>...</td>\n      <td>...</td>\n      <td>...</td>\n      <td>...</td>\n    </tr>\n    <tr>\n      <th>355</th>\n      <td>z3nMgma1Kt1</td>\n      <td>2020Q1</td>\n      <td>26.0</td>\n      <td>25.0</td>\n      <td>1.0</td>\n      <td>4.000000</td>\n      <td>26.0</td>\n      <td>25.0</td>\n    </tr>\n    <tr>\n      <th>356</th>\n      <td>z3nMgma1Kt1</td>\n      <td>2020Q2</td>\n      <td>44.0</td>\n      <td>42.0</td>\n      <td>2.0</td>\n      <td>4.761905</td>\n      <td>44.0</td>\n      <td>42.0</td>\n    </tr>\n    <tr>\n      <th>357</th>\n      <td>zwV7ekHDAwe</td>\n      <td>2019Q4</td>\n      <td>66.0</td>\n      <td>66.0</td>\n      <td>0.0</td>\n      <td>0.000000</td>\n      <td>66.0</td>\n      <td>66.0</td>\n    </tr>\n    <tr>\n      <th>358</th>\n      <td>zwV7ekHDAwe</td>\n      <td>2020Q1</td>\n      <td>93.0</td>\n      <td>85.0</td>\n      <td>8.0</td>\n      <td>9.411765</td>\n      <td>93.0</td>\n      <td>85.0</td>\n    </tr>\n    <tr>\n      <th>359</th>\n      <td>zwV7ekHDAwe</td>\n      <td>2020Q2</td>\n      <td>57.0</td>\n      <td>56.0</td>\n      <td>1.0</td>\n      <td>1.785714</td>\n      <td>57.0</td>\n      <td>56.0</td>\n    </tr>\n  </tbody>\n</table>\n<p>360 rows × 8 columns</p>\n</div>"
     },
     "execution_count": 45,
     "metadata": {},
     "output_type": "execute_result"
    }
   ],
   "source": [
    "merged_data = merged_data.drop(\"index\", axis=1)\n",
    "merged_data"
   ],
   "metadata": {
    "collapsed": false,
    "pycharm": {
     "name": "#%%\n"
    }
   }
  },
  {
   "cell_type": "code",
   "execution_count": 59,
   "outputs": [
    {
     "data": {
      "text/plain": "     facilityuid  period  total_dhis2_value  total_datim_value  difference  \\\n26   EzccfHE7VSe  2019Q4               14.0               13.0         1.0   \n28   EzccfHE7VSe  2020Q2               19.0               26.0        -7.0   \n29   FH1lPSOnK9z  2019Q4               37.0               53.0       -16.0   \n37   FpS8TixqWn4  2020Q1               51.0               40.0        11.0   \n45   G4FemD36hGF  2019Q4               34.0               47.0       -13.0   \n46   G4FemD36hGF  2020Q1               38.0               59.0       -21.0   \n48   GNwx6r3BZ8O  2019Q4               10.0                8.0         2.0   \n50   GNwx6r3BZ8O  2020Q2                2.0                4.0        -2.0   \n52   H8zbf1TS3qy  2020Q1               59.0               54.0         5.0   \n57   I2z6MT7pHrX  2019Q4               28.0               42.0       -14.0   \n60   IH4gWpzva9S  2019Q4               27.0               25.0         2.0   \n63   ImG6wgclN06  2019Q4               81.0              120.0       -39.0   \n68   JJHQ16uTrPX  2020Q2               53.0               41.0        12.0   \n78   KpXqE32Rm1d  2019Q4               30.0               26.0         4.0   \n80   KpXqE32Rm1d  2020Q2               28.0               25.0         3.0   \n82   LFBf0WwBzaX  2020Q1              101.0               93.0         8.0   \n83   LFBf0WwBzaX  2020Q2               62.0               92.0       -30.0   \n84   LGgFPRuWpws  2019Q4               42.0               50.0        -8.0   \n92   LYR8fhhFOaQ  2020Q2               32.0               29.0         3.0   \n94   MQcFGwW1QsE  2020Q1               40.0               49.0        -9.0   \n102  NRf14PUD9xc  2019Q4              141.0              129.0        12.0   \n126  QzrC7FpTOCf  2019Q4                9.0                8.0         1.0   \n127  QzrC7FpTOCf  2020Q1               12.0               11.0         1.0   \n129  RPdnWtp0vRd  2019Q4                5.0                4.0         1.0   \n130  RPdnWtp0vRd  2020Q1               20.0               26.0        -6.0   \n131  RPdnWtp0vRd  2020Q2               12.0               11.0         1.0   \n139  SPfT81d1gVx  2020Q1               75.0               81.0        -6.0   \n140  SPfT81d1gVx  2020Q2               45.0               60.0       -15.0   \n144  Sepsy4Bb35C  2019Q4               90.0               77.0        13.0   \n157  UY3IInX1rgt  2020Q1               15.0               13.0         2.0   \n163  Uvv85m35TMs  2020Q1               55.0               60.0        -5.0   \n164  Uvv85m35TMs  2020Q2               32.0               52.0       -20.0   \n169  WDe0umtdbif  2020Q1               17.0               11.0         6.0   \n170  WDe0umtdbif  2020Q2               25.0               14.0        11.0   \n210  aWpElDmioIw  2019Q4               22.0               27.0        -5.0   \n215  bi747puqsrA  2020Q2               30.0               27.0         3.0   \n221  cZQlPWrhosA  2020Q2               38.0               43.0        -5.0   \n225  cdSguOsrorH  2019Q4               24.0               45.0       -21.0   \n232  dW7oScLnDy2  2020Q1               23.0               21.0         2.0   \n250  fzoNOK6Nrqc  2020Q1               54.0               63.0        -9.0   \n261  ghUdW9zdUuu  2019Q4               59.0               18.0        41.0   \n262  ghUdW9zdUuu  2020Q1               11.0               16.0        -5.0   \n264  hHb5SzuuyHK  2019Q4               65.0               51.0        14.0   \n285  kVVmxGZKCfA  2019Q4               37.0               65.0       -28.0   \n294  mQbyKWUNKMs  2019Q4               32.0                8.0        24.0   \n300  nNxsnNursRY  2019Q4               45.0               30.0        15.0   \n302  nNxsnNursRY  2020Q2               39.0               36.0         3.0   \n303  naa6PTuNZM4  2019Q4               12.0               20.0        -8.0   \n304  naa6PTuNZM4  2020Q1               10.0                9.0         1.0   \n305  naa6PTuNZM4  2020Q2               11.0               10.0         1.0   \n312  orKDpItM56v  2019Q4               30.0               43.0       -13.0   \n321  q3Hiw70svzH  2019Q4               34.0               44.0       -10.0   \n325  sAMKlirWAu6  2020Q1               60.0               73.0       -13.0   \n332  sJHMc412zV6  2020Q2               51.0               46.0         5.0   \n333  sR008hvpu5e  2019Q4               20.0               10.0        10.0   \n334  sR008hvpu5e  2020Q1               11.0                7.0         4.0   \n345  xa8ZMxIarv6  2019Q4               56.0               69.0       -13.0   \n346  xa8ZMxIarv6  2020Q1               92.0               85.0         7.0   \n358  zwV7ekHDAwe  2020Q1               93.0               85.0         8.0   \n\n     percentage_difference  total_pmtct_dhis2_value  total_pmtct_datim_value  \n26                7.692308                     14.0                     13.0  \n28               26.923077                     19.0                     26.0  \n29               30.188679                     37.0                     53.0  \n37               27.500000                     51.0                     40.0  \n45               27.659574                     34.0                     47.0  \n46               35.593220                     38.0                     59.0  \n48               25.000000                     10.0                      8.0  \n50               50.000000                      2.0                      4.0  \n52                9.259259                     59.0                     54.0  \n57               33.333333                     28.0                     42.0  \n60                8.000000                     27.0                     25.0  \n63               32.500000                     81.0                    120.0  \n68               29.268293                     53.0                     41.0  \n78               15.384615                     30.0                     26.0  \n80               12.000000                     28.0                     25.0  \n82                8.602151                    101.0                     93.0  \n83               32.608696                     62.0                     92.0  \n84               16.000000                     42.0                     50.0  \n92               10.344828                     32.0                     29.0  \n94               18.367347                     40.0                     49.0  \n102               9.302326                    141.0                    129.0  \n126              12.500000                      9.0                      8.0  \n127               9.090909                     12.0                     11.0  \n129              25.000000                      5.0                      4.0  \n130              23.076923                     20.0                     26.0  \n131               9.090909                     12.0                     11.0  \n139               7.407407                     75.0                     81.0  \n140              25.000000                     45.0                     60.0  \n144              16.883117                     90.0                     77.0  \n157              15.384615                     15.0                     13.0  \n163               8.333333                     55.0                     60.0  \n164              38.461538                     32.0                     52.0  \n169              54.545455                     17.0                     11.0  \n170              78.571429                     25.0                     14.0  \n210              18.518519                     22.0                     27.0  \n215              11.111111                     30.0                     27.0  \n221              11.627907                     38.0                     43.0  \n225              46.666667                     24.0                     45.0  \n232               9.523810                     23.0                     21.0  \n250              14.285714                     54.0                     63.0  \n261             227.777778                     59.0                     18.0  \n262              31.250000                     11.0                     16.0  \n264              27.450980                     65.0                     51.0  \n285              43.076923                     37.0                     65.0  \n294             300.000000                     32.0                      8.0  \n300              50.000000                     45.0                     30.0  \n302               8.333333                     39.0                     36.0  \n303              40.000000                     12.0                     20.0  \n304              11.111111                     10.0                      9.0  \n305              10.000000                     11.0                     10.0  \n312              30.232558                     30.0                     43.0  \n321              22.727273                     34.0                     44.0  \n325              17.808219                     60.0                     73.0  \n332              10.869565                     51.0                     46.0  \n333             100.000000                     20.0                     10.0  \n334              57.142857                     11.0                      7.0  \n345              18.840580                     56.0                     69.0  \n346               8.235294                     92.0                     85.0  \n358               9.411765                     93.0                     85.0  ",
      "text/html": "<div>\n<style scoped>\n    .dataframe tbody tr th:only-of-type {\n        vertical-align: middle;\n    }\n\n    .dataframe tbody tr th {\n        vertical-align: top;\n    }\n\n    .dataframe thead th {\n        text-align: right;\n    }\n</style>\n<table border=\"1\" class=\"dataframe\">\n  <thead>\n    <tr style=\"text-align: right;\">\n      <th></th>\n      <th>facilityuid</th>\n      <th>period</th>\n      <th>total_dhis2_value</th>\n      <th>total_datim_value</th>\n      <th>difference</th>\n      <th>percentage_difference</th>\n      <th>total_pmtct_dhis2_value</th>\n      <th>total_pmtct_datim_value</th>\n    </tr>\n  </thead>\n  <tbody>\n    <tr>\n      <th>26</th>\n      <td>EzccfHE7VSe</td>\n      <td>2019Q4</td>\n      <td>14.0</td>\n      <td>13.0</td>\n      <td>1.0</td>\n      <td>7.692308</td>\n      <td>14.0</td>\n      <td>13.0</td>\n    </tr>\n    <tr>\n      <th>28</th>\n      <td>EzccfHE7VSe</td>\n      <td>2020Q2</td>\n      <td>19.0</td>\n      <td>26.0</td>\n      <td>-7.0</td>\n      <td>26.923077</td>\n      <td>19.0</td>\n      <td>26.0</td>\n    </tr>\n    <tr>\n      <th>29</th>\n      <td>FH1lPSOnK9z</td>\n      <td>2019Q4</td>\n      <td>37.0</td>\n      <td>53.0</td>\n      <td>-16.0</td>\n      <td>30.188679</td>\n      <td>37.0</td>\n      <td>53.0</td>\n    </tr>\n    <tr>\n      <th>37</th>\n      <td>FpS8TixqWn4</td>\n      <td>2020Q1</td>\n      <td>51.0</td>\n      <td>40.0</td>\n      <td>11.0</td>\n      <td>27.500000</td>\n      <td>51.0</td>\n      <td>40.0</td>\n    </tr>\n    <tr>\n      <th>45</th>\n      <td>G4FemD36hGF</td>\n      <td>2019Q4</td>\n      <td>34.0</td>\n      <td>47.0</td>\n      <td>-13.0</td>\n      <td>27.659574</td>\n      <td>34.0</td>\n      <td>47.0</td>\n    </tr>\n    <tr>\n      <th>46</th>\n      <td>G4FemD36hGF</td>\n      <td>2020Q1</td>\n      <td>38.0</td>\n      <td>59.0</td>\n      <td>-21.0</td>\n      <td>35.593220</td>\n      <td>38.0</td>\n      <td>59.0</td>\n    </tr>\n    <tr>\n      <th>48</th>\n      <td>GNwx6r3BZ8O</td>\n      <td>2019Q4</td>\n      <td>10.0</td>\n      <td>8.0</td>\n      <td>2.0</td>\n      <td>25.000000</td>\n      <td>10.0</td>\n      <td>8.0</td>\n    </tr>\n    <tr>\n      <th>50</th>\n      <td>GNwx6r3BZ8O</td>\n      <td>2020Q2</td>\n      <td>2.0</td>\n      <td>4.0</td>\n      <td>-2.0</td>\n      <td>50.000000</td>\n      <td>2.0</td>\n      <td>4.0</td>\n    </tr>\n    <tr>\n      <th>52</th>\n      <td>H8zbf1TS3qy</td>\n      <td>2020Q1</td>\n      <td>59.0</td>\n      <td>54.0</td>\n      <td>5.0</td>\n      <td>9.259259</td>\n      <td>59.0</td>\n      <td>54.0</td>\n    </tr>\n    <tr>\n      <th>57</th>\n      <td>I2z6MT7pHrX</td>\n      <td>2019Q4</td>\n      <td>28.0</td>\n      <td>42.0</td>\n      <td>-14.0</td>\n      <td>33.333333</td>\n      <td>28.0</td>\n      <td>42.0</td>\n    </tr>\n    <tr>\n      <th>60</th>\n      <td>IH4gWpzva9S</td>\n      <td>2019Q4</td>\n      <td>27.0</td>\n      <td>25.0</td>\n      <td>2.0</td>\n      <td>8.000000</td>\n      <td>27.0</td>\n      <td>25.0</td>\n    </tr>\n    <tr>\n      <th>63</th>\n      <td>ImG6wgclN06</td>\n      <td>2019Q4</td>\n      <td>81.0</td>\n      <td>120.0</td>\n      <td>-39.0</td>\n      <td>32.500000</td>\n      <td>81.0</td>\n      <td>120.0</td>\n    </tr>\n    <tr>\n      <th>68</th>\n      <td>JJHQ16uTrPX</td>\n      <td>2020Q2</td>\n      <td>53.0</td>\n      <td>41.0</td>\n      <td>12.0</td>\n      <td>29.268293</td>\n      <td>53.0</td>\n      <td>41.0</td>\n    </tr>\n    <tr>\n      <th>78</th>\n      <td>KpXqE32Rm1d</td>\n      <td>2019Q4</td>\n      <td>30.0</td>\n      <td>26.0</td>\n      <td>4.0</td>\n      <td>15.384615</td>\n      <td>30.0</td>\n      <td>26.0</td>\n    </tr>\n    <tr>\n      <th>80</th>\n      <td>KpXqE32Rm1d</td>\n      <td>2020Q2</td>\n      <td>28.0</td>\n      <td>25.0</td>\n      <td>3.0</td>\n      <td>12.000000</td>\n      <td>28.0</td>\n      <td>25.0</td>\n    </tr>\n    <tr>\n      <th>82</th>\n      <td>LFBf0WwBzaX</td>\n      <td>2020Q1</td>\n      <td>101.0</td>\n      <td>93.0</td>\n      <td>8.0</td>\n      <td>8.602151</td>\n      <td>101.0</td>\n      <td>93.0</td>\n    </tr>\n    <tr>\n      <th>83</th>\n      <td>LFBf0WwBzaX</td>\n      <td>2020Q2</td>\n      <td>62.0</td>\n      <td>92.0</td>\n      <td>-30.0</td>\n      <td>32.608696</td>\n      <td>62.0</td>\n      <td>92.0</td>\n    </tr>\n    <tr>\n      <th>84</th>\n      <td>LGgFPRuWpws</td>\n      <td>2019Q4</td>\n      <td>42.0</td>\n      <td>50.0</td>\n      <td>-8.0</td>\n      <td>16.000000</td>\n      <td>42.0</td>\n      <td>50.0</td>\n    </tr>\n    <tr>\n      <th>92</th>\n      <td>LYR8fhhFOaQ</td>\n      <td>2020Q2</td>\n      <td>32.0</td>\n      <td>29.0</td>\n      <td>3.0</td>\n      <td>10.344828</td>\n      <td>32.0</td>\n      <td>29.0</td>\n    </tr>\n    <tr>\n      <th>94</th>\n      <td>MQcFGwW1QsE</td>\n      <td>2020Q1</td>\n      <td>40.0</td>\n      <td>49.0</td>\n      <td>-9.0</td>\n      <td>18.367347</td>\n      <td>40.0</td>\n      <td>49.0</td>\n    </tr>\n    <tr>\n      <th>102</th>\n      <td>NRf14PUD9xc</td>\n      <td>2019Q4</td>\n      <td>141.0</td>\n      <td>129.0</td>\n      <td>12.0</td>\n      <td>9.302326</td>\n      <td>141.0</td>\n      <td>129.0</td>\n    </tr>\n    <tr>\n      <th>126</th>\n      <td>QzrC7FpTOCf</td>\n      <td>2019Q4</td>\n      <td>9.0</td>\n      <td>8.0</td>\n      <td>1.0</td>\n      <td>12.500000</td>\n      <td>9.0</td>\n      <td>8.0</td>\n    </tr>\n    <tr>\n      <th>127</th>\n      <td>QzrC7FpTOCf</td>\n      <td>2020Q1</td>\n      <td>12.0</td>\n      <td>11.0</td>\n      <td>1.0</td>\n      <td>9.090909</td>\n      <td>12.0</td>\n      <td>11.0</td>\n    </tr>\n    <tr>\n      <th>129</th>\n      <td>RPdnWtp0vRd</td>\n      <td>2019Q4</td>\n      <td>5.0</td>\n      <td>4.0</td>\n      <td>1.0</td>\n      <td>25.000000</td>\n      <td>5.0</td>\n      <td>4.0</td>\n    </tr>\n    <tr>\n      <th>130</th>\n      <td>RPdnWtp0vRd</td>\n      <td>2020Q1</td>\n      <td>20.0</td>\n      <td>26.0</td>\n      <td>-6.0</td>\n      <td>23.076923</td>\n      <td>20.0</td>\n      <td>26.0</td>\n    </tr>\n    <tr>\n      <th>131</th>\n      <td>RPdnWtp0vRd</td>\n      <td>2020Q2</td>\n      <td>12.0</td>\n      <td>11.0</td>\n      <td>1.0</td>\n      <td>9.090909</td>\n      <td>12.0</td>\n      <td>11.0</td>\n    </tr>\n    <tr>\n      <th>139</th>\n      <td>SPfT81d1gVx</td>\n      <td>2020Q1</td>\n      <td>75.0</td>\n      <td>81.0</td>\n      <td>-6.0</td>\n      <td>7.407407</td>\n      <td>75.0</td>\n      <td>81.0</td>\n    </tr>\n    <tr>\n      <th>140</th>\n      <td>SPfT81d1gVx</td>\n      <td>2020Q2</td>\n      <td>45.0</td>\n      <td>60.0</td>\n      <td>-15.0</td>\n      <td>25.000000</td>\n      <td>45.0</td>\n      <td>60.0</td>\n    </tr>\n    <tr>\n      <th>144</th>\n      <td>Sepsy4Bb35C</td>\n      <td>2019Q4</td>\n      <td>90.0</td>\n      <td>77.0</td>\n      <td>13.0</td>\n      <td>16.883117</td>\n      <td>90.0</td>\n      <td>77.0</td>\n    </tr>\n    <tr>\n      <th>157</th>\n      <td>UY3IInX1rgt</td>\n      <td>2020Q1</td>\n      <td>15.0</td>\n      <td>13.0</td>\n      <td>2.0</td>\n      <td>15.384615</td>\n      <td>15.0</td>\n      <td>13.0</td>\n    </tr>\n    <tr>\n      <th>163</th>\n      <td>Uvv85m35TMs</td>\n      <td>2020Q1</td>\n      <td>55.0</td>\n      <td>60.0</td>\n      <td>-5.0</td>\n      <td>8.333333</td>\n      <td>55.0</td>\n      <td>60.0</td>\n    </tr>\n    <tr>\n      <th>164</th>\n      <td>Uvv85m35TMs</td>\n      <td>2020Q2</td>\n      <td>32.0</td>\n      <td>52.0</td>\n      <td>-20.0</td>\n      <td>38.461538</td>\n      <td>32.0</td>\n      <td>52.0</td>\n    </tr>\n    <tr>\n      <th>169</th>\n      <td>WDe0umtdbif</td>\n      <td>2020Q1</td>\n      <td>17.0</td>\n      <td>11.0</td>\n      <td>6.0</td>\n      <td>54.545455</td>\n      <td>17.0</td>\n      <td>11.0</td>\n    </tr>\n    <tr>\n      <th>170</th>\n      <td>WDe0umtdbif</td>\n      <td>2020Q2</td>\n      <td>25.0</td>\n      <td>14.0</td>\n      <td>11.0</td>\n      <td>78.571429</td>\n      <td>25.0</td>\n      <td>14.0</td>\n    </tr>\n    <tr>\n      <th>210</th>\n      <td>aWpElDmioIw</td>\n      <td>2019Q4</td>\n      <td>22.0</td>\n      <td>27.0</td>\n      <td>-5.0</td>\n      <td>18.518519</td>\n      <td>22.0</td>\n      <td>27.0</td>\n    </tr>\n    <tr>\n      <th>215</th>\n      <td>bi747puqsrA</td>\n      <td>2020Q2</td>\n      <td>30.0</td>\n      <td>27.0</td>\n      <td>3.0</td>\n      <td>11.111111</td>\n      <td>30.0</td>\n      <td>27.0</td>\n    </tr>\n    <tr>\n      <th>221</th>\n      <td>cZQlPWrhosA</td>\n      <td>2020Q2</td>\n      <td>38.0</td>\n      <td>43.0</td>\n      <td>-5.0</td>\n      <td>11.627907</td>\n      <td>38.0</td>\n      <td>43.0</td>\n    </tr>\n    <tr>\n      <th>225</th>\n      <td>cdSguOsrorH</td>\n      <td>2019Q4</td>\n      <td>24.0</td>\n      <td>45.0</td>\n      <td>-21.0</td>\n      <td>46.666667</td>\n      <td>24.0</td>\n      <td>45.0</td>\n    </tr>\n    <tr>\n      <th>232</th>\n      <td>dW7oScLnDy2</td>\n      <td>2020Q1</td>\n      <td>23.0</td>\n      <td>21.0</td>\n      <td>2.0</td>\n      <td>9.523810</td>\n      <td>23.0</td>\n      <td>21.0</td>\n    </tr>\n    <tr>\n      <th>250</th>\n      <td>fzoNOK6Nrqc</td>\n      <td>2020Q1</td>\n      <td>54.0</td>\n      <td>63.0</td>\n      <td>-9.0</td>\n      <td>14.285714</td>\n      <td>54.0</td>\n      <td>63.0</td>\n    </tr>\n    <tr>\n      <th>261</th>\n      <td>ghUdW9zdUuu</td>\n      <td>2019Q4</td>\n      <td>59.0</td>\n      <td>18.0</td>\n      <td>41.0</td>\n      <td>227.777778</td>\n      <td>59.0</td>\n      <td>18.0</td>\n    </tr>\n    <tr>\n      <th>262</th>\n      <td>ghUdW9zdUuu</td>\n      <td>2020Q1</td>\n      <td>11.0</td>\n      <td>16.0</td>\n      <td>-5.0</td>\n      <td>31.250000</td>\n      <td>11.0</td>\n      <td>16.0</td>\n    </tr>\n    <tr>\n      <th>264</th>\n      <td>hHb5SzuuyHK</td>\n      <td>2019Q4</td>\n      <td>65.0</td>\n      <td>51.0</td>\n      <td>14.0</td>\n      <td>27.450980</td>\n      <td>65.0</td>\n      <td>51.0</td>\n    </tr>\n    <tr>\n      <th>285</th>\n      <td>kVVmxGZKCfA</td>\n      <td>2019Q4</td>\n      <td>37.0</td>\n      <td>65.0</td>\n      <td>-28.0</td>\n      <td>43.076923</td>\n      <td>37.0</td>\n      <td>65.0</td>\n    </tr>\n    <tr>\n      <th>294</th>\n      <td>mQbyKWUNKMs</td>\n      <td>2019Q4</td>\n      <td>32.0</td>\n      <td>8.0</td>\n      <td>24.0</td>\n      <td>300.000000</td>\n      <td>32.0</td>\n      <td>8.0</td>\n    </tr>\n    <tr>\n      <th>300</th>\n      <td>nNxsnNursRY</td>\n      <td>2019Q4</td>\n      <td>45.0</td>\n      <td>30.0</td>\n      <td>15.0</td>\n      <td>50.000000</td>\n      <td>45.0</td>\n      <td>30.0</td>\n    </tr>\n    <tr>\n      <th>302</th>\n      <td>nNxsnNursRY</td>\n      <td>2020Q2</td>\n      <td>39.0</td>\n      <td>36.0</td>\n      <td>3.0</td>\n      <td>8.333333</td>\n      <td>39.0</td>\n      <td>36.0</td>\n    </tr>\n    <tr>\n      <th>303</th>\n      <td>naa6PTuNZM4</td>\n      <td>2019Q4</td>\n      <td>12.0</td>\n      <td>20.0</td>\n      <td>-8.0</td>\n      <td>40.000000</td>\n      <td>12.0</td>\n      <td>20.0</td>\n    </tr>\n    <tr>\n      <th>304</th>\n      <td>naa6PTuNZM4</td>\n      <td>2020Q1</td>\n      <td>10.0</td>\n      <td>9.0</td>\n      <td>1.0</td>\n      <td>11.111111</td>\n      <td>10.0</td>\n      <td>9.0</td>\n    </tr>\n    <tr>\n      <th>305</th>\n      <td>naa6PTuNZM4</td>\n      <td>2020Q2</td>\n      <td>11.0</td>\n      <td>10.0</td>\n      <td>1.0</td>\n      <td>10.000000</td>\n      <td>11.0</td>\n      <td>10.0</td>\n    </tr>\n    <tr>\n      <th>312</th>\n      <td>orKDpItM56v</td>\n      <td>2019Q4</td>\n      <td>30.0</td>\n      <td>43.0</td>\n      <td>-13.0</td>\n      <td>30.232558</td>\n      <td>30.0</td>\n      <td>43.0</td>\n    </tr>\n    <tr>\n      <th>321</th>\n      <td>q3Hiw70svzH</td>\n      <td>2019Q4</td>\n      <td>34.0</td>\n      <td>44.0</td>\n      <td>-10.0</td>\n      <td>22.727273</td>\n      <td>34.0</td>\n      <td>44.0</td>\n    </tr>\n    <tr>\n      <th>325</th>\n      <td>sAMKlirWAu6</td>\n      <td>2020Q1</td>\n      <td>60.0</td>\n      <td>73.0</td>\n      <td>-13.0</td>\n      <td>17.808219</td>\n      <td>60.0</td>\n      <td>73.0</td>\n    </tr>\n    <tr>\n      <th>332</th>\n      <td>sJHMc412zV6</td>\n      <td>2020Q2</td>\n      <td>51.0</td>\n      <td>46.0</td>\n      <td>5.0</td>\n      <td>10.869565</td>\n      <td>51.0</td>\n      <td>46.0</td>\n    </tr>\n    <tr>\n      <th>333</th>\n      <td>sR008hvpu5e</td>\n      <td>2019Q4</td>\n      <td>20.0</td>\n      <td>10.0</td>\n      <td>10.0</td>\n      <td>100.000000</td>\n      <td>20.0</td>\n      <td>10.0</td>\n    </tr>\n    <tr>\n      <th>334</th>\n      <td>sR008hvpu5e</td>\n      <td>2020Q1</td>\n      <td>11.0</td>\n      <td>7.0</td>\n      <td>4.0</td>\n      <td>57.142857</td>\n      <td>11.0</td>\n      <td>7.0</td>\n    </tr>\n    <tr>\n      <th>345</th>\n      <td>xa8ZMxIarv6</td>\n      <td>2019Q4</td>\n      <td>56.0</td>\n      <td>69.0</td>\n      <td>-13.0</td>\n      <td>18.840580</td>\n      <td>56.0</td>\n      <td>69.0</td>\n    </tr>\n    <tr>\n      <th>346</th>\n      <td>xa8ZMxIarv6</td>\n      <td>2020Q1</td>\n      <td>92.0</td>\n      <td>85.0</td>\n      <td>7.0</td>\n      <td>8.235294</td>\n      <td>92.0</td>\n      <td>85.0</td>\n    </tr>\n    <tr>\n      <th>358</th>\n      <td>zwV7ekHDAwe</td>\n      <td>2020Q1</td>\n      <td>93.0</td>\n      <td>85.0</td>\n      <td>8.0</td>\n      <td>9.411765</td>\n      <td>93.0</td>\n      <td>85.0</td>\n    </tr>\n  </tbody>\n</table>\n</div>"
     },
     "execution_count": 59,
     "metadata": {},
     "output_type": "execute_result"
    }
   ],
   "source": [
    "# len(merged_data[merged_data['percentage_difference'] > 30])\n",
    "cutoff = merged_data[\"percentage_difference\"].mean()\n",
    "\n",
    "z = merged_data[merged_data['percentage_difference'] > cutoff]\n",
    "z"
   ],
   "metadata": {
    "collapsed": false,
    "pycharm": {
     "name": "#%%\n"
    }
   }
  },
  {
   "cell_type": "code",
   "execution_count": 57,
   "outputs": [
    {
     "data": {
      "text/plain": "       total_dhis2_value  total_datim_value  difference  \\\ncount         360.000000         360.000000  360.000000   \nmean           75.741667          74.550000    1.191667   \nstd            68.231193          65.963928    6.217008   \nmin             1.000000           1.000000  -39.000000   \n25%            37.000000          37.000000    0.000000   \n50%            54.000000          53.500000    1.000000   \n75%            90.250000          85.500000    3.000000   \nmax           496.000000         465.000000   41.000000   \n\n       percentage_difference  total_pmtct_dhis2_value  total_pmtct_datim_value  \ncount             360.000000               360.000000               360.000000  \nmean                7.158811                75.741667                74.550000  \nstd                22.344105                68.231193                65.963928  \nmin                 0.000000                 1.000000                 1.000000  \n25%                 0.000000                37.000000                37.000000  \n50%                 2.439024                54.000000                53.500000  \n75%                 5.263158                90.250000                85.500000  \nmax               300.000000               496.000000               465.000000  ",
      "text/html": "<div>\n<style scoped>\n    .dataframe tbody tr th:only-of-type {\n        vertical-align: middle;\n    }\n\n    .dataframe tbody tr th {\n        vertical-align: top;\n    }\n\n    .dataframe thead th {\n        text-align: right;\n    }\n</style>\n<table border=\"1\" class=\"dataframe\">\n  <thead>\n    <tr style=\"text-align: right;\">\n      <th></th>\n      <th>total_dhis2_value</th>\n      <th>total_datim_value</th>\n      <th>difference</th>\n      <th>percentage_difference</th>\n      <th>total_pmtct_dhis2_value</th>\n      <th>total_pmtct_datim_value</th>\n    </tr>\n  </thead>\n  <tbody>\n    <tr>\n      <th>count</th>\n      <td>360.000000</td>\n      <td>360.000000</td>\n      <td>360.000000</td>\n      <td>360.000000</td>\n      <td>360.000000</td>\n      <td>360.000000</td>\n    </tr>\n    <tr>\n      <th>mean</th>\n      <td>75.741667</td>\n      <td>74.550000</td>\n      <td>1.191667</td>\n      <td>7.158811</td>\n      <td>75.741667</td>\n      <td>74.550000</td>\n    </tr>\n    <tr>\n      <th>std</th>\n      <td>68.231193</td>\n      <td>65.963928</td>\n      <td>6.217008</td>\n      <td>22.344105</td>\n      <td>68.231193</td>\n      <td>65.963928</td>\n    </tr>\n    <tr>\n      <th>min</th>\n      <td>1.000000</td>\n      <td>1.000000</td>\n      <td>-39.000000</td>\n      <td>0.000000</td>\n      <td>1.000000</td>\n      <td>1.000000</td>\n    </tr>\n    <tr>\n      <th>25%</th>\n      <td>37.000000</td>\n      <td>37.000000</td>\n      <td>0.000000</td>\n      <td>0.000000</td>\n      <td>37.000000</td>\n      <td>37.000000</td>\n    </tr>\n    <tr>\n      <th>50%</th>\n      <td>54.000000</td>\n      <td>53.500000</td>\n      <td>1.000000</td>\n      <td>2.439024</td>\n      <td>54.000000</td>\n      <td>53.500000</td>\n    </tr>\n    <tr>\n      <th>75%</th>\n      <td>90.250000</td>\n      <td>85.500000</td>\n      <td>3.000000</td>\n      <td>5.263158</td>\n      <td>90.250000</td>\n      <td>85.500000</td>\n    </tr>\n    <tr>\n      <th>max</th>\n      <td>496.000000</td>\n      <td>465.000000</td>\n      <td>41.000000</td>\n      <td>300.000000</td>\n      <td>496.000000</td>\n      <td>465.000000</td>\n    </tr>\n  </tbody>\n</table>\n</div>"
     },
     "execution_count": 57,
     "metadata": {},
     "output_type": "execute_result"
    }
   ],
   "source": [
    "merged_data.describe()"
   ],
   "metadata": {
    "collapsed": false,
    "pycharm": {
     "name": "#%%\n"
    }
   }
  },
  {
   "cell_type": "code",
   "execution_count": null,
   "outputs": [],
   "source": [
    "# define a lambda function with if-else conditions\n",
    "def accept(x):\n",
    "    if x < 5:\n",
    "        return 'yes'\n",
    "    else:\n",
    "\n",
    "        return 'no'\n",
    "\n",
    "\n",
    "# apply the lambda function to the 'score' column and assign the result to a new column 'grade'\n",
    "merged_data['accept'] = df['percentage_difference'].apply(lambda x: accept(x))\n",
    "df"
   ],
   "metadata": {
    "collapsed": false,
    "pycharm": {
     "name": "#%%\n"
    }
   }
  }
 ],
 "metadata": {
  "kernelspec": {
   "display_name": "Python 3",
   "language": "python",
   "name": "python3"
  },
  "language_info": {
   "codemirror_mode": {
    "name": "ipython",
    "version": 2
   },
   "file_extension": ".py",
   "mimetype": "text/x-python",
   "name": "python",
   "nbconvert_exporter": "python",
   "pygments_lexer": "ipython2",
   "version": "2.7.6"
  }
 },
 "nbformat": 4,
 "nbformat_minor": 0
}